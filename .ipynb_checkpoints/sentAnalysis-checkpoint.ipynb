{
 "cells": [
  {
   "cell_type": "markdown",
   "id": "a3494411",
   "metadata": {},
   "source": [
    "# SENTIMENT ANALYSIS"
   ]
  },
  {
   "cell_type": "code",
   "execution_count": 1,
   "id": "270785de",
   "metadata": {},
   "outputs": [],
   "source": [
    "## By Fomekong Tchoffo Frank Borel"
   ]
  },
  {
   "cell_type": "code",
   "execution_count": 428,
   "id": "6ab7a71b",
   "metadata": {},
   "outputs": [],
   "source": [
    "import pandas as pd\n",
    "import glob\n",
    "import time\n",
    "import re\n",
    "import pickle\n",
    "from keras.preprocessing.text import Tokenizer\n",
    "from keras.preprocessing.sequence import pad_sequences\n",
    "from keras.preprocessing import sequence\n",
    "from keras.layers import SimpleRNN,Conv1D,Conv2D, Flatten, MaxPooling2D, Dropout,MaxPooling1D,GlobalMaxPooling1D,GRU,Bidirectional\n",
    "\n",
    "from keras.models import Sequential,Model\n",
    "from keras.layers import Dense, Embedding, LSTM\n",
    "import numpy as np\n",
    "\n",
    "import tensorflow as tf\n",
    "from sklearn import metrics\n",
    "\n",
    "import seaborn as sns\n",
    "\n",
    "from nltk.stem.porter import PorterStemmer\n",
    "from wordcloud import WordCloud,STOPWORDS\n",
    "from nltk.stem import WordNetLemmatizer\n",
    "from nltk.tokenize import word_tokenize,sent_tokenize\n",
    "from bs4 import BeautifulSoup\n",
    "import re,string,unicodedata\n",
    "from nltk.tokenize.toktok import ToktokTokenizer\n",
    "from nltk.stem import LancasterStemmer,WordNetLemmatizer\n",
    "from sklearn.linear_model import LogisticRegression,SGDClassifier\n",
    "from sklearn.naive_bayes import MultinomialNB\n",
    "from sklearn.svm import SVC\n",
    "from textblob import TextBlob\n",
    "from textblob import Word\n",
    "from sklearn.metrics import classification_report,confusion_matrix,accuracy_score\n"
   ]
  },
  {
   "cell_type": "markdown",
   "id": "4e99ac20",
   "metadata": {},
   "source": [
    "## Plot"
   ]
  },
  {
   "cell_type": "code",
   "execution_count": 181,
   "id": "bf90aaaf",
   "metadata": {},
   "outputs": [],
   "source": [
    "import matplotlib.pyplot as plt"
   ]
  },
  {
   "cell_type": "code",
   "execution_count": 431,
   "id": "759e7e83",
   "metadata": {},
   "outputs": [],
   "source": [
    "def plot_graphs(history, metric):\n",
    "    plt.plot(history.history[metric])\n",
    "    plt.plot(history.history['val_'+metric], '')\n",
    "    plt.xlabel(\"Epochs\")\n",
    "    plt.ylabel(metric)\n",
    "    plt.legend([metric, 'val_'+metric])"
   ]
  },
  {
   "cell_type": "code",
   "execution_count": 432,
   "id": "b0a31c89",
   "metadata": {},
   "outputs": [],
   "source": [
    "def plot_results(history):\n",
    "    acc = history.history['acc']\n",
    "    val_acc = history.history['val_acc']\n",
    "    loss = history.history['loss']\n",
    "    val_loss = history.history['val_loss']\n",
    "    \n",
    "    epochs = range(1, len(acc) + 1)\n",
    "    plt.plot(epochs, acc, 'bo', label='Training Accuracy')\n",
    "    plt.plot(epochs, val_acc, 'b', label='Validation Accuracy')\n",
    " \n",
    "    plt.title('Training and validation Accuracy')\n",
    "    plt.legend()\n",
    "    plt.figure()\n",
    "    plt.plot(epochs, loss, 'bo', label='Training Loss')\n",
    "    plt.plot(epochs, val_loss, 'b', label='Validation Loss')\n",
    "    plt.title('Training and validation Loss')\n",
    "    plt.legend()\n",
    "    plt.show()"
   ]
  },
  {
   "cell_type": "markdown",
   "id": "d2da81b7",
   "metadata": {},
   "source": [
    "## Load Data"
   ]
  },
  {
   "cell_type": "code",
   "execution_count": 433,
   "id": "ce770321",
   "metadata": {},
   "outputs": [],
   "source": [
    "def Load_data(path1,out_name):\n",
    "    '''Here we represent data like this negative is 0\n",
    "        and positive is 1\n",
    "    '''\n",
    "    paths=path1\n",
    "    datas={\"comment\":[],\"label\":[]}\n",
    "    file_listpos=glob.glob(paths+\"/pos/*.txt\")\n",
    "    file_listneg=glob.glob(paths+\"/neg/*.txt\")\n",
    "    for file in file_listpos:\n",
    "        file=open(file,\"r\")\n",
    "        p=file.read()\n",
    "        datas[\"comment\"].append(p)\n",
    "        datas[\"label\"].append(1)\n",
    "        file.close()\n",
    "    for file in file_listneg:\n",
    "        file=open(file,\"r\")\n",
    "        p=file.read()\n",
    "        datas[\"comment\"].append(p)\n",
    "        datas[\"label\"].append(0)\n",
    "        file.close()\n",
    "    df=pd.DataFrame.from_dict(datas)\n",
    "#     print(df)\n",
    "    df.to_csv(\"./\"+str(out_name)+\".csv\", index=False)"
   ]
  },
  {
   "cell_type": "markdown",
   "id": "c77937a8",
   "metadata": {},
   "source": [
    "### Load Test Data"
   ]
  },
  {
   "cell_type": "code",
   "execution_count": 186,
   "id": "133fbfe8",
   "metadata": {},
   "outputs": [
    {
     "name": "stdout",
     "output_type": "stream",
     "text": [
      "\n",
      "==============================================================\n",
      "All Treatment took :  0.0 seconds\n",
      "==============================================================\n"
     ]
    }
   ],
   "source": [
    "start = time.perf_counter()\n",
    "Load_data(\"./aclImdb/test\",\"test\")\n",
    "end = time.perf_counter()\n",
    "print(\"\\n==============================================================\")\n",
    "print(\"All Treatment took : \", round(end - start, 2), 'seconds')\n",
    "print(\"==============================================================\")"
   ]
  },
  {
   "cell_type": "markdown",
   "id": "2180c2cf",
   "metadata": {},
   "source": [
    "### Load Unsup"
   ]
  },
  {
   "cell_type": "code",
   "execution_count": 187,
   "id": "afd80613",
   "metadata": {},
   "outputs": [],
   "source": [
    "paths=\"./unsup\"\n",
    "datas={\"comment\":[]}\n",
    "file_listpos=glob.glob(paths+\"/*.txt\")\n",
    "for file in file_listpos:\n",
    "    file=open(file,\"r\",encoding=\"utf8\")\n",
    "    p=file.read()\n",
    "    datas[\"comment\"].append(p)\n",
    "    file.close()\n",
    "df=pd.DataFrame.from_dict(datas)\n",
    "#     print(df)\n",
    "df.to_csv(\"./unsup\"+\".csv\", index=False)"
   ]
  },
  {
   "cell_type": "code",
   "execution_count": 434,
   "id": "7174c365",
   "metadata": {},
   "outputs": [
    {
     "data": {
      "text/html": [
       "<div>\n",
       "<style scoped>\n",
       "    .dataframe tbody tr th:only-of-type {\n",
       "        vertical-align: middle;\n",
       "    }\n",
       "\n",
       "    .dataframe tbody tr th {\n",
       "        vertical-align: top;\n",
       "    }\n",
       "\n",
       "    .dataframe thead th {\n",
       "        text-align: right;\n",
       "    }\n",
       "</style>\n",
       "<table border=\"1\" class=\"dataframe\">\n",
       "  <thead>\n",
       "    <tr style=\"text-align: right;\">\n",
       "      <th></th>\n",
       "      <th>comment</th>\n",
       "    </tr>\n",
       "  </thead>\n",
       "  <tbody>\n",
       "    <tr>\n",
       "      <th>0</th>\n",
       "      <td>I admit, the great majority of films released ...</td>\n",
       "    </tr>\n",
       "    <tr>\n",
       "      <th>1</th>\n",
       "      <td>Take a low budget, inexperienced actors doubli...</td>\n",
       "    </tr>\n",
       "    <tr>\n",
       "      <th>2</th>\n",
       "      <td>Everybody has seen 'Back To The Future,' right...</td>\n",
       "    </tr>\n",
       "    <tr>\n",
       "      <th>3</th>\n",
       "      <td>Doris Day was an icon of beauty in singing and...</td>\n",
       "    </tr>\n",
       "    <tr>\n",
       "      <th>4</th>\n",
       "      <td>After a series of silly, fun-loving movies, 19...</td>\n",
       "    </tr>\n",
       "    <tr>\n",
       "      <th>5</th>\n",
       "      <td>This isn't exactly a musical, but it almost se...</td>\n",
       "    </tr>\n",
       "    <tr>\n",
       "      <th>6</th>\n",
       "      <td>After seven years and seventeen pictures at Wa...</td>\n",
       "    </tr>\n",
       "    <tr>\n",
       "      <th>7</th>\n",
       "      <td>In the 1950's there were many film boigraphies...</td>\n",
       "    </tr>\n",
       "    <tr>\n",
       "      <th>8</th>\n",
       "      <td>MY RATING- 7.3&lt;br /&gt;&lt;br /&gt;This one is a curiou...</td>\n",
       "    </tr>\n",
       "    <tr>\n",
       "      <th>9</th>\n",
       "      <td>Doris Day and James Cagney are excellent in th...</td>\n",
       "    </tr>\n",
       "  </tbody>\n",
       "</table>\n",
       "</div>"
      ],
      "text/plain": [
       "                                             comment\n",
       "0  I admit, the great majority of films released ...\n",
       "1  Take a low budget, inexperienced actors doubli...\n",
       "2  Everybody has seen 'Back To The Future,' right...\n",
       "3  Doris Day was an icon of beauty in singing and...\n",
       "4  After a series of silly, fun-loving movies, 19...\n",
       "5  This isn't exactly a musical, but it almost se...\n",
       "6  After seven years and seventeen pictures at Wa...\n",
       "7  In the 1950's there were many film boigraphies...\n",
       "8  MY RATING- 7.3<br /><br />This one is a curiou...\n",
       "9  Doris Day and James Cagney are excellent in th..."
      ]
     },
     "execution_count": 434,
     "metadata": {},
     "output_type": "execute_result"
    }
   ],
   "source": [
    "unsup_data=pd.read_csv('unsup.csv')\n",
    "unsup_data.head(10)"
   ]
  },
  {
   "cell_type": "code",
   "execution_count": 435,
   "id": "fec00442",
   "metadata": {},
   "outputs": [
    {
     "data": {
      "text/plain": [
       "(50000, 1)"
      ]
     },
     "execution_count": 435,
     "metadata": {},
     "output_type": "execute_result"
    }
   ],
   "source": [
    "unsup_data.shape"
   ]
  },
  {
   "cell_type": "markdown",
   "id": "183ef83f",
   "metadata": {},
   "source": [
    "#### Some Test data"
   ]
  },
  {
   "cell_type": "code",
   "execution_count": 436,
   "id": "78300fcb",
   "metadata": {},
   "outputs": [
    {
     "data": {
      "text/html": [
       "<div>\n",
       "<style scoped>\n",
       "    .dataframe tbody tr th:only-of-type {\n",
       "        vertical-align: middle;\n",
       "    }\n",
       "\n",
       "    .dataframe tbody tr th {\n",
       "        vertical-align: top;\n",
       "    }\n",
       "\n",
       "    .dataframe thead th {\n",
       "        text-align: right;\n",
       "    }\n",
       "</style>\n",
       "<table border=\"1\" class=\"dataframe\">\n",
       "  <thead>\n",
       "    <tr style=\"text-align: right;\">\n",
       "      <th></th>\n",
       "      <th>comment</th>\n",
       "      <th>label</th>\n",
       "    </tr>\n",
       "  </thead>\n",
       "  <tbody>\n",
       "    <tr>\n",
       "      <th>0</th>\n",
       "      <td>We have moved far beyond this tentative foray ...</td>\n",
       "      <td>1</td>\n",
       "    </tr>\n",
       "    <tr>\n",
       "      <th>1</th>\n",
       "      <td>Rififi, directed by Jules Dassin, is in line w...</td>\n",
       "      <td>1</td>\n",
       "    </tr>\n",
       "    <tr>\n",
       "      <th>2</th>\n",
       "      <td>...that maybe someday people will wake up to. ...</td>\n",
       "      <td>1</td>\n",
       "    </tr>\n",
       "    <tr>\n",
       "      <th>3</th>\n",
       "      <td>I've seen this movie more than once and it's w...</td>\n",
       "      <td>1</td>\n",
       "    </tr>\n",
       "    <tr>\n",
       "      <th>4</th>\n",
       "      <td>The young John Garfield turned in a fine perfo...</td>\n",
       "      <td>1</td>\n",
       "    </tr>\n",
       "    <tr>\n",
       "      <th>...</th>\n",
       "      <td>...</td>\n",
       "      <td>...</td>\n",
       "    </tr>\n",
       "    <tr>\n",
       "      <th>95</th>\n",
       "      <td>I am a massive Hitchcock fan, ever since seein...</td>\n",
       "      <td>1</td>\n",
       "    </tr>\n",
       "    <tr>\n",
       "      <th>96</th>\n",
       "      <td>Yes!! They finally got it down to perfection. ...</td>\n",
       "      <td>1</td>\n",
       "    </tr>\n",
       "    <tr>\n",
       "      <th>97</th>\n",
       "      <td>I had the good fortune to be at Perris Island ...</td>\n",
       "      <td>1</td>\n",
       "    </tr>\n",
       "    <tr>\n",
       "      <th>98</th>\n",
       "      <td>This is definitely the biggest surprise of the...</td>\n",
       "      <td>1</td>\n",
       "    </tr>\n",
       "    <tr>\n",
       "      <th>99</th>\n",
       "      <td>A classic 80's movie that Disney for some reas...</td>\n",
       "      <td>1</td>\n",
       "    </tr>\n",
       "  </tbody>\n",
       "</table>\n",
       "<p>100 rows × 2 columns</p>\n",
       "</div>"
      ],
      "text/plain": [
       "                                              comment  label\n",
       "0   We have moved far beyond this tentative foray ...      1\n",
       "1   Rififi, directed by Jules Dassin, is in line w...      1\n",
       "2   ...that maybe someday people will wake up to. ...      1\n",
       "3   I've seen this movie more than once and it's w...      1\n",
       "4   The young John Garfield turned in a fine perfo...      1\n",
       "..                                                ...    ...\n",
       "95  I am a massive Hitchcock fan, ever since seein...      1\n",
       "96  Yes!! They finally got it down to perfection. ...      1\n",
       "97  I had the good fortune to be at Perris Island ...      1\n",
       "98  This is definitely the biggest surprise of the...      1\n",
       "99  A classic 80's movie that Disney for some reas...      1\n",
       "\n",
       "[100 rows x 2 columns]"
      ]
     },
     "execution_count": 436,
     "metadata": {},
     "output_type": "execute_result"
    }
   ],
   "source": [
    "test_data=pd.read_csv(\"test.csv\",encoding=\"latin\")\n",
    "test_data.head(100)"
   ]
  },
  {
   "cell_type": "markdown",
   "id": "bc6611ae",
   "metadata": {},
   "source": [
    "#### Test Size"
   ]
  },
  {
   "cell_type": "code",
   "execution_count": 7,
   "id": "e5fb27fe",
   "metadata": {},
   "outputs": [
    {
     "data": {
      "text/plain": [
       "(25000, 2)"
      ]
     },
     "execution_count": 7,
     "metadata": {},
     "output_type": "execute_result"
    }
   ],
   "source": [
    "test_data.shape"
   ]
  },
  {
   "cell_type": "markdown",
   "id": "1d37cbea",
   "metadata": {},
   "source": [
    "### Load Train Data"
   ]
  },
  {
   "cell_type": "code",
   "execution_count": 27,
   "id": "0eae670b",
   "metadata": {},
   "outputs": [
    {
     "name": "stdout",
     "output_type": "stream",
     "text": [
      "\n",
      "==============================================================\n",
      "All Treatment took :  79.4 seconds\n",
      "==============================================================\n"
     ]
    }
   ],
   "source": [
    "start = time.perf_counter()\n",
    "Load_data(\"./aclImdb/train\",\"train\")\n",
    "end = time.perf_counter()\n",
    "print(\"\\n==============================================================\")\n",
    "print(\"All Treatment took : \", round(end - start, 2), 'seconds')\n",
    "print(\"==============================================================\")"
   ]
  },
  {
   "cell_type": "markdown",
   "id": "ec7a1e9c",
   "metadata": {},
   "source": [
    "#### Some  Train Data"
   ]
  },
  {
   "cell_type": "code",
   "execution_count": 437,
   "id": "a66cef9e",
   "metadata": {},
   "outputs": [
    {
     "data": {
      "text/html": [
       "<div>\n",
       "<style scoped>\n",
       "    .dataframe tbody tr th:only-of-type {\n",
       "        vertical-align: middle;\n",
       "    }\n",
       "\n",
       "    .dataframe tbody tr th {\n",
       "        vertical-align: top;\n",
       "    }\n",
       "\n",
       "    .dataframe thead th {\n",
       "        text-align: right;\n",
       "    }\n",
       "</style>\n",
       "<table border=\"1\" class=\"dataframe\">\n",
       "  <thead>\n",
       "    <tr style=\"text-align: right;\">\n",
       "      <th></th>\n",
       "      <th>comment</th>\n",
       "      <th>label</th>\n",
       "    </tr>\n",
       "  </thead>\n",
       "  <tbody>\n",
       "    <tr>\n",
       "      <th>0</th>\n",
       "      <td>The combination of reading the Novella and vie...</td>\n",
       "      <td>1</td>\n",
       "    </tr>\n",
       "    <tr>\n",
       "      <th>1</th>\n",
       "      <td>I watched the presentation of this on PBS in t...</td>\n",
       "      <td>1</td>\n",
       "    </tr>\n",
       "    <tr>\n",
       "      <th>2</th>\n",
       "      <td>Having to have someone hold your hand whenever...</td>\n",
       "      <td>1</td>\n",
       "    </tr>\n",
       "    <tr>\n",
       "      <th>3</th>\n",
       "      <td>I really enjoyed this movie. It succeeded in d...</td>\n",
       "      <td>1</td>\n",
       "    </tr>\n",
       "    <tr>\n",
       "      <th>4</th>\n",
       "      <td>Watching \"Ossessione\" today -- more than 6 dec...</td>\n",
       "      <td>1</td>\n",
       "    </tr>\n",
       "    <tr>\n",
       "      <th>...</th>\n",
       "      <td>...</td>\n",
       "      <td>...</td>\n",
       "    </tr>\n",
       "    <tr>\n",
       "      <th>95</th>\n",
       "      <td>The story of a drifter, his sheep ranch boss, ...</td>\n",
       "      <td>1</td>\n",
       "    </tr>\n",
       "    <tr>\n",
       "      <th>96</th>\n",
       "      <td>\"The Shop Around the Corner\" is one of the gre...</td>\n",
       "      <td>1</td>\n",
       "    </tr>\n",
       "    <tr>\n",
       "      <th>97</th>\n",
       "      <td>By God, it's been a long time since I saw this...</td>\n",
       "      <td>1</td>\n",
       "    </tr>\n",
       "    <tr>\n",
       "      <th>98</th>\n",
       "      <td>The Flock is unjustly maligned as a lesser \"Se...</td>\n",
       "      <td>1</td>\n",
       "    </tr>\n",
       "    <tr>\n",
       "      <th>99</th>\n",
       "      <td>I have watched this film twice now and think i...</td>\n",
       "      <td>1</td>\n",
       "    </tr>\n",
       "  </tbody>\n",
       "</table>\n",
       "<p>100 rows × 2 columns</p>\n",
       "</div>"
      ],
      "text/plain": [
       "                                              comment  label\n",
       "0   The combination of reading the Novella and vie...      1\n",
       "1   I watched the presentation of this on PBS in t...      1\n",
       "2   Having to have someone hold your hand whenever...      1\n",
       "3   I really enjoyed this movie. It succeeded in d...      1\n",
       "4   Watching \"Ossessione\" today -- more than 6 dec...      1\n",
       "..                                                ...    ...\n",
       "95  The story of a drifter, his sheep ranch boss, ...      1\n",
       "96  \"The Shop Around the Corner\" is one of the gre...      1\n",
       "97  By God, it's been a long time since I saw this...      1\n",
       "98  The Flock is unjustly maligned as a lesser \"Se...      1\n",
       "99  I have watched this film twice now and think i...      1\n",
       "\n",
       "[100 rows x 2 columns]"
      ]
     },
     "execution_count": 437,
     "metadata": {},
     "output_type": "execute_result"
    }
   ],
   "source": [
    "train_data=pd.read_csv(\"train.csv\",encoding=\"latin\")\n",
    "train_data.head(100)"
   ]
  },
  {
   "cell_type": "markdown",
   "id": "6326d7b8",
   "metadata": {},
   "source": [
    "#### Train Size"
   ]
  },
  {
   "cell_type": "code",
   "execution_count": 438,
   "id": "e923fe64",
   "metadata": {},
   "outputs": [
    {
     "data": {
      "text/plain": [
       "(25000, 2)"
      ]
     },
     "execution_count": 438,
     "metadata": {},
     "output_type": "execute_result"
    }
   ],
   "source": [
    "train_data.shape"
   ]
  },
  {
   "cell_type": "markdown",
   "id": "2fb4de23",
   "metadata": {},
   "source": [
    "### Preprocessing Data"
   ]
  },
  {
   "cell_type": "code",
   "execution_count": 439,
   "id": "8148b04d",
   "metadata": {},
   "outputs": [],
   "source": [
    "def strip_html(text):\n",
    "    soup = BeautifulSoup(text, \"html.parser\")\n",
    "    return soup.get_text()\n",
    "\n",
    "#Removing the square brackets\n",
    "def remove_between_square_brackets(text):\n",
    "    return re.sub('\\[[^]]*\\]', '', text)\n",
    "\n",
    "#Removing the noisy text\n",
    "def denoise_text(text):\n",
    "    text = strip_html(text)\n",
    "    text = remove_between_square_brackets(text)\n",
    "    return text\n",
    "\n",
    "def remove_special_characters(text, remove_digits=True):\n",
    "    pattern=r'[^a-zA-z0-9\\s]'\n",
    "    text=re.sub(pattern,'',text)\n",
    "    return text\n",
    "\n",
    "def simple_stemmer(text):\n",
    "    ps=nltk.porter.PorterStemmer()\n",
    "    text= ' '.join([ps.stem(word) for word in text.split()])\n",
    "    return text\n",
    "\n",
    "def preprocess_data(data):\n",
    "    data['comment'] = data['comment'].apply(lambda x: x.lower()) # change all text to lower\n",
    "    data['comment'] = data['comment'].apply((lambda x: re.sub('[^a-zA-z0-9\\s]','',x)))\n",
    "    data['comment'] = data['comment'].apply(strip_html)\n",
    "    data['comment'] = data['comment'].apply(remove_between_square_brackets)\n",
    "    data['comment'] = data['comment'].apply(denoise_text)\n",
    "    data['comment'] = data['comment'].apply(simple_stemmer)\n",
    "    return data"
   ]
  },
  {
   "cell_type": "markdown",
   "id": "7a4572e3",
   "metadata": {},
   "source": [
    "### On Unsupervised data"
   ]
  },
  {
   "cell_type": "code",
   "execution_count": 440,
   "id": "22cb6d12",
   "metadata": {},
   "outputs": [
    {
     "data": {
      "text/html": [
       "<div>\n",
       "<style scoped>\n",
       "    .dataframe tbody tr th:only-of-type {\n",
       "        vertical-align: middle;\n",
       "    }\n",
       "\n",
       "    .dataframe tbody tr th {\n",
       "        vertical-align: top;\n",
       "    }\n",
       "\n",
       "    .dataframe thead th {\n",
       "        text-align: right;\n",
       "    }\n",
       "</style>\n",
       "<table border=\"1\" class=\"dataframe\">\n",
       "  <thead>\n",
       "    <tr style=\"text-align: right;\">\n",
       "      <th></th>\n",
       "      <th>comment</th>\n",
       "    </tr>\n",
       "  </thead>\n",
       "  <tbody>\n",
       "    <tr>\n",
       "      <th>0</th>\n",
       "      <td>i admit the great major of film releas befor s...</td>\n",
       "    </tr>\n",
       "    <tr>\n",
       "      <th>1</th>\n",
       "      <td>take a low budget inexperienc actor doubl as p...</td>\n",
       "    </tr>\n",
       "    <tr>\n",
       "      <th>2</th>\n",
       "      <td>everybodi ha seen back to the futur right whet...</td>\n",
       "    </tr>\n",
       "    <tr>\n",
       "      <th>3</th>\n",
       "      <td>dori day wa an icon of beauti in sing and act ...</td>\n",
       "    </tr>\n",
       "    <tr>\n",
       "      <th>4</th>\n",
       "      <td>after a seri of silli funlov movi 1955 wa a bi...</td>\n",
       "    </tr>\n",
       "    <tr>\n",
       "      <th>5</th>\n",
       "      <td>thi isnt exactli a music but it almost seem li...</td>\n",
       "    </tr>\n",
       "    <tr>\n",
       "      <th>6</th>\n",
       "      <td>after seven year and seventeen pictur at warne...</td>\n",
       "    </tr>\n",
       "    <tr>\n",
       "      <th>7</th>\n",
       "      <td>in the 1950 there were mani film boigraphi for...</td>\n",
       "    </tr>\n",
       "    <tr>\n",
       "      <th>8</th>\n",
       "      <td>my rate 73br br thi one is a curiou mov made w...</td>\n",
       "    </tr>\n",
       "    <tr>\n",
       "      <th>9</th>\n",
       "      <td>dori day and jame cagney are excel in thi lush...</td>\n",
       "    </tr>\n",
       "  </tbody>\n",
       "</table>\n",
       "</div>"
      ],
      "text/plain": [
       "                                             comment\n",
       "0  i admit the great major of film releas befor s...\n",
       "1  take a low budget inexperienc actor doubl as p...\n",
       "2  everybodi ha seen back to the futur right whet...\n",
       "3  dori day wa an icon of beauti in sing and act ...\n",
       "4  after a seri of silli funlov movi 1955 wa a bi...\n",
       "5  thi isnt exactli a music but it almost seem li...\n",
       "6  after seven year and seventeen pictur at warne...\n",
       "7  in the 1950 there were mani film boigraphi for...\n",
       "8  my rate 73br br thi one is a curiou mov made w...\n",
       "9  dori day and jame cagney are excel in thi lush..."
      ]
     },
     "execution_count": 440,
     "metadata": {},
     "output_type": "execute_result"
    }
   ],
   "source": [
    "unsup_data=preprocess_data(unsup_data)\n",
    "unsup_data.head(10)"
   ]
  },
  {
   "cell_type": "markdown",
   "id": "7a7a8223",
   "metadata": {},
   "source": [
    "#### On Train Data"
   ]
  },
  {
   "cell_type": "code",
   "execution_count": 441,
   "id": "7611b91f",
   "metadata": {},
   "outputs": [
    {
     "data": {
      "text/html": [
       "<div>\n",
       "<style scoped>\n",
       "    .dataframe tbody tr th:only-of-type {\n",
       "        vertical-align: middle;\n",
       "    }\n",
       "\n",
       "    .dataframe tbody tr th {\n",
       "        vertical-align: top;\n",
       "    }\n",
       "\n",
       "    .dataframe thead th {\n",
       "        text-align: right;\n",
       "    }\n",
       "</style>\n",
       "<table border=\"1\" class=\"dataframe\">\n",
       "  <thead>\n",
       "    <tr style=\"text-align: right;\">\n",
       "      <th></th>\n",
       "      <th>comment</th>\n",
       "      <th>label</th>\n",
       "    </tr>\n",
       "  </thead>\n",
       "  <tbody>\n",
       "    <tr>\n",
       "      <th>0</th>\n",
       "      <td>the combin of read the novella and view thi fi...</td>\n",
       "      <td>1</td>\n",
       "    </tr>\n",
       "    <tr>\n",
       "      <th>1</th>\n",
       "      <td>i watch the present of thi on pb in the us whe...</td>\n",
       "      <td>1</td>\n",
       "    </tr>\n",
       "    <tr>\n",
       "      <th>2</th>\n",
       "      <td>have to have someon hold your hand whenev walk...</td>\n",
       "      <td>1</td>\n",
       "    </tr>\n",
       "    <tr>\n",
       "      <th>3</th>\n",
       "      <td>i realli enjoy thi movi it succeed in do somet...</td>\n",
       "      <td>1</td>\n",
       "    </tr>\n",
       "    <tr>\n",
       "      <th>4</th>\n",
       "      <td>watch ossession today more than 6 decad later ...</td>\n",
       "      <td>1</td>\n",
       "    </tr>\n",
       "    <tr>\n",
       "      <th>5</th>\n",
       "      <td>ani one who ha seen mel gibson the passion of ...</td>\n",
       "      <td>1</td>\n",
       "    </tr>\n",
       "    <tr>\n",
       "      <th>6</th>\n",
       "      <td>let me say first that thi show wa top tier whe...</td>\n",
       "      <td>1</td>\n",
       "    </tr>\n",
       "    <tr>\n",
       "      <th>7</th>\n",
       "      <td>the notori betti page 2006 12 gretchen mol lil...</td>\n",
       "      <td>1</td>\n",
       "    </tr>\n",
       "    <tr>\n",
       "      <th>8</th>\n",
       "      <td>as someon who live near buffalo new york thi m...</td>\n",
       "      <td>1</td>\n",
       "    </tr>\n",
       "    <tr>\n",
       "      <th>9</th>\n",
       "      <td>i bought the video rather late in my collect a...</td>\n",
       "      <td>1</td>\n",
       "    </tr>\n",
       "  </tbody>\n",
       "</table>\n",
       "</div>"
      ],
      "text/plain": [
       "                                             comment  label\n",
       "0  the combin of read the novella and view thi fi...      1\n",
       "1  i watch the present of thi on pb in the us whe...      1\n",
       "2  have to have someon hold your hand whenev walk...      1\n",
       "3  i realli enjoy thi movi it succeed in do somet...      1\n",
       "4  watch ossession today more than 6 decad later ...      1\n",
       "5  ani one who ha seen mel gibson the passion of ...      1\n",
       "6  let me say first that thi show wa top tier whe...      1\n",
       "7  the notori betti page 2006 12 gretchen mol lil...      1\n",
       "8  as someon who live near buffalo new york thi m...      1\n",
       "9  i bought the video rather late in my collect a...      1"
      ]
     },
     "execution_count": 441,
     "metadata": {},
     "output_type": "execute_result"
    }
   ],
   "source": [
    "train_data=preprocess_data(train_data)\n",
    "train_data.head(10)"
   ]
  },
  {
   "cell_type": "markdown",
   "id": "762b3097",
   "metadata": {},
   "source": [
    "#### On test Data"
   ]
  },
  {
   "cell_type": "code",
   "execution_count": null,
   "id": "37d51035",
   "metadata": {},
   "outputs": [],
   "source": [
    "test_data=preprocess_data(test_data)\n",
    "test_data.head(10)"
   ]
  },
  {
   "cell_type": "code",
   "execution_count": 205,
   "id": "1068164d",
   "metadata": {},
   "outputs": [
    {
     "data": {
      "text/plain": [
       "1    12500\n",
       "0    12500\n",
       "Name: label, dtype: int64"
      ]
     },
     "execution_count": 205,
     "metadata": {},
     "output_type": "execute_result"
    }
   ],
   "source": [
    "train_data[\"label\"].value_counts()"
   ]
  },
  {
   "cell_type": "markdown",
   "id": "5a4de623",
   "metadata": {},
   "source": [
    "## Tokenization"
   ]
  },
  {
   "cell_type": "markdown",
   "id": "75853a71",
   "metadata": {},
   "source": [
    "### Tokenizer Generator"
   ]
  },
  {
   "cell_type": "code",
   "execution_count": 206,
   "id": "ad6195f0",
   "metadata": {},
   "outputs": [],
   "source": [
    "def tokengen(maxword=100):\n",
    "    return Tokenizer(num_words=maxword,lower=True, split=\" \")"
   ]
  },
  {
   "cell_type": "code",
   "execution_count": 401,
   "id": "3cd57883",
   "metadata": {},
   "outputs": [
    {
     "data": {
      "text/plain": [
       "(25000, 500)"
      ]
     },
     "execution_count": 401,
     "metadata": {},
     "output_type": "execute_result"
    }
   ],
   "source": [
    "max_features = 5000\n",
    "maxlength = 500\n",
    "data=np.concatenate((train_data['comment'].values,unsup_data['comment'].values))\n",
    "tokenizer = Tokenizer(num_words=max_features, split=' ')\n",
    "tokenizer.fit_on_texts(train_data['comment'].values)\n",
    "X = tokenizer.texts_to_sequences(train_data['comment'].values)\n",
    "\n",
    "\n",
    "# pad sequences\n",
    "X = pad_sequences(X, maxlen=maxlength)\n",
    "X.shape"
   ]
  },
  {
   "cell_type": "code",
   "execution_count": 402,
   "id": "59ea824c",
   "metadata": {
    "scrolled": true
   },
   "outputs": [
    {
     "name": "stdout",
     "output_type": "stream",
     "text": [
      "[[0 1]\n",
      " [0 1]\n",
      " [0 1]\n",
      " ...\n",
      " [1 0]\n",
      " [1 0]\n",
      " [1 0]]\n"
     ]
    }
   ],
   "source": [
    "Y=pd.get_dummies(train_data.label).values\n",
    "print(Y)"
   ]
  },
  {
   "cell_type": "code",
   "execution_count": 403,
   "id": "b30429c0",
   "metadata": {},
   "outputs": [],
   "source": [
    "X_test = tokenizer.texts_to_sequences(test_data['comment'].values)\n",
    "X_test = pad_sequences(X_test, maxlen=maxlength)\n",
    "Y_test=pd.get_dummies(test_data.label).values"
   ]
  },
  {
   "cell_type": "markdown",
   "id": "b6f82174",
   "metadata": {},
   "source": [
    "## Model LSTM"
   ]
  },
  {
   "cell_type": "code",
   "execution_count": 327,
   "id": "1e1b3821",
   "metadata": {},
   "outputs": [
    {
     "name": "stdout",
     "output_type": "stream",
     "text": [
      "Model: \"sequential_56\"\n",
      "_________________________________________________________________\n",
      " Layer (type)                Output Shape              Param #   \n",
      "=================================================================\n",
      " embedding_37 (Embedding)    (None, 500, 128)          640000    \n",
      "                                                                 \n",
      " lstm_7 (LSTM)               (None, 100)               91600     \n",
      "                                                                 \n",
      " dense_55 (Dense)            (None, 2)                 202       \n",
      "                                                                 \n",
      "=================================================================\n",
      "Total params: 731,802\n",
      "Trainable params: 731,802\n",
      "Non-trainable params: 0\n",
      "_________________________________________________________________\n",
      "None\n"
     ]
    }
   ],
   "source": [
    "embed_dim = 128\n",
    "hidden_units = 100\n",
    "n_classes = 2\n",
    "\n",
    "model = Sequential()\n",
    "model.add(Embedding(max_features, embed_dim, input_length = X.shape[1]))\n",
    "model.add(LSTM(hidden_units))\n",
    "model.add(Dense(n_classes, activation='softmax'))\n",
    "model.compile(loss = 'categorical_crossentropy', optimizer='adam',metrics = ['accuracy'])\n",
    "print(model.summary())"
   ]
  },
  {
   "cell_type": "markdown",
   "id": "92205611",
   "metadata": {},
   "source": [
    "### Fit Model"
   ]
  },
  {
   "cell_type": "code",
   "execution_count": 328,
   "id": "ac77838f",
   "metadata": {
    "scrolled": true
   },
   "outputs": [
    {
     "name": "stdout",
     "output_type": "stream",
     "text": [
      "Epoch 1/10\n",
      "200/200 [==============================] - 169s 840ms/step - loss: 0.4614 - accuracy: 0.7754 - val_loss: 0.6686 - val_accuracy: 0.6994\n",
      "Epoch 2/10\n",
      "200/200 [==============================] - 175s 875ms/step - loss: 0.2552 - accuracy: 0.9000 - val_loss: 0.4161 - val_accuracy: 0.8368\n",
      "Epoch 3/10\n",
      "200/200 [==============================] - 179s 896ms/step - loss: 0.1937 - accuracy: 0.9266 - val_loss: 0.7562 - val_accuracy: 0.7292\n",
      "Epoch 4/10\n",
      "200/200 [==============================] - 180s 902ms/step - loss: 0.2128 - accuracy: 0.9132 - val_loss: 0.8923 - val_accuracy: 0.6842\n",
      "Epoch 5/10\n",
      "200/200 [==============================] - 182s 910ms/step - loss: 0.1386 - accuracy: 0.9484 - val_loss: 0.6093 - val_accuracy: 0.7918\n",
      "Epoch 6/10\n",
      "200/200 [==============================] - 183s 915ms/step - loss: 0.0956 - accuracy: 0.9668 - val_loss: 0.7632 - val_accuracy: 0.7782\n",
      "Epoch 7/10\n",
      "200/200 [==============================] - 183s 915ms/step - loss: 0.0865 - accuracy: 0.9703 - val_loss: 0.9062 - val_accuracy: 0.7468\n",
      "Epoch 8/10\n",
      "200/200 [==============================] - 183s 913ms/step - loss: 0.0757 - accuracy: 0.9743 - val_loss: 0.8118 - val_accuracy: 0.8030\n",
      "Epoch 9/10\n",
      "200/200 [==============================] - 183s 914ms/step - loss: 0.0598 - accuracy: 0.9805 - val_loss: 0.6586 - val_accuracy: 0.8390\n",
      "Epoch 10/10\n",
      "200/200 [==============================] - 185s 923ms/step - loss: 0.0532 - accuracy: 0.9818 - val_loss: 0.9673 - val_accuracy: 0.8236\n",
      "\n",
      "==============================================================\n",
      "All Treatment took :  1800.95 seconds\n",
      "==============================================================\n"
     ]
    }
   ],
   "source": [
    "start = time.perf_counter()\n",
    "historyA=model.fit(X, Y, batch_size = 100, epochs=10, validation_split=0.2)\n",
    "end = time.perf_counter()\n",
    "print(\"\\n==============================================================\")\n",
    "print(\"All Treatment took : \", round(end - start, 2), 'seconds')\n",
    "print(\"==============================================================\")"
   ]
  },
  {
   "cell_type": "code",
   "execution_count": 330,
   "id": "d2957998",
   "metadata": {},
   "outputs": [
    {
     "data": {
      "image/png": "[encoded data removed]",
      "text/plain": [
       "<Figure size 432x288 with 1 Axes>"
      ]
     },
     "metadata": {
      "needs_background": "light"
     },
     "output_type": "display_data"
    },
    {
     "data": {
      "image/png": "[encoded data removed]",
      "text/plain": [
       "<Figure size 432x288 with 1 Axes>"
      ]
     },
     "metadata": {
      "needs_background": "light"
     },
     "output_type": "display_data"
    }
   ],
   "source": [
    "plt.plot(historyA.history['accuracy'])\n",
    "plt.plot(historyA.history['val_accuracy'])\n",
    "plt.title('model accuracy')\n",
    "plt.ylabel('accuracy')\n",
    "plt.xlabel('epoch')\n",
    "plt.legend(['train', 'test'], loc='upper left')\n",
    "plt.show()\n",
    "\n",
    "# summarize history for loss\n",
    "plt.plot(historyA.history['loss'])\n",
    "plt.plot(historyA.history['val_loss'])\n",
    "plt.title('model loss')\n",
    "plt.ylabel('loss')\n",
    "plt.xlabel('epoch')\n",
    "plt.legend(['train', 'test'], loc='upper left')\n",
    "plt.show()"
   ]
  },
  {
   "cell_type": "markdown",
   "id": "4ab87e46",
   "metadata": {},
   "source": [
    "### test model LSTM"
   ]
  },
  {
   "cell_type": "code",
   "execution_count": 331,
   "id": "6eb15f1b",
   "metadata": {},
   "outputs": [
    {
     "name": "stdout",
     "output_type": "stream",
     "text": [
      "Test loss: 0.7395005226135254\n",
      "Test accuracy: 0.847320020198822\n"
     ]
    }
   ],
   "source": [
    "score = model.evaluate(X_test, Y_test, verbose=0)\n",
    "print('Test loss:', score[0])\n",
    "print('Test accuracy:', score[1])"
   ]
  },
  {
   "cell_type": "markdown",
   "id": "ab191c35",
   "metadata": {},
   "source": [
    "### Save model and Tokenizer"
   ]
  },
  {
   "cell_type": "code",
   "execution_count": 334,
   "id": "4df3f813",
   "metadata": {},
   "outputs": [],
   "source": [
    "model.save('trained_model_LSTM2.h5')\n",
    "\n",
    "with open('trained_tokenizer11.pkl', 'wb') as f: # creates a pickle file 'trained_tokenizer.pkl'\n",
    "    pickle.dump(tokenizer, f)"
   ]
  },
  {
   "cell_type": "markdown",
   "id": "589b5a18",
   "metadata": {},
   "source": [
    "## Model CNN"
   ]
  },
  {
   "cell_type": "code",
   "execution_count": 335,
   "id": "2e935168",
   "metadata": {},
   "outputs": [],
   "source": [
    "epochs = 10\n",
    "maxlen = 500\n",
    "embedding_dim = 50\n",
    "num_filters = 64\n",
    "kernel_size = 5\n",
    "batch_size = 32"
   ]
  },
  {
   "cell_type": "code",
   "execution_count": 422,
   "id": "a450aec0",
   "metadata": {},
   "outputs": [],
   "source": [
    "tokenizer = Tokenizer(num_words=5000)\n",
    "tokenizer.fit_on_texts(data)\n",
    "X_train = tokenizer.texts_to_sequences(train_data['comment'])\n",
    "X_test = tokenizer.texts_to_sequences(test_data['comment'])\n",
    "vocab_size = len(tokenizer.word_index) + 1 "
   ]
  },
  {
   "cell_type": "code",
   "execution_count": 338,
   "id": "48fcee52",
   "metadata": {},
   "outputs": [],
   "source": [
    "X_train = pad_sequences(X_train, padding='post', maxlen=maxlen)\n",
    "X_test = pad_sequences(X_test, padding='post', maxlen=maxlen)"
   ]
  },
  {
   "cell_type": "code",
   "execution_count": 339,
   "id": "e81049cf",
   "metadata": {},
   "outputs": [
    {
     "name": "stdout",
     "output_type": "stream",
     "text": [
      "Model: \"sequential_57\"\n",
      "_________________________________________________________________\n",
      " Layer (type)                Output Shape              Param #   \n",
      "=================================================================\n",
      " embedding_38 (Embedding)    (None, 500, 50)           11835750  \n",
      "                                                                 \n",
      " conv1d_10 (Conv1D)          (None, 496, 64)           16064     \n",
      "                                                                 \n",
      " global_max_pooling1d_4 (Glo  (None, 64)               0         \n",
      " balMaxPooling1D)                                                \n",
      "                                                                 \n",
      " dense_56 (Dense)            (None, 10)                650       \n",
      "                                                                 \n",
      " dense_57 (Dense)            (None, 1)                 11        \n",
      "                                                                 \n",
      "=================================================================\n",
      "Total params: 11,852,475\n",
      "Trainable params: 11,852,475\n",
      "Non-trainable params: 0\n",
      "_________________________________________________________________\n"
     ]
    }
   ],
   "source": [
    "num_classes = 2\n",
    "model2 = Sequential()\n",
    "model2.add(Embedding(vocab_size, embedding_dim, input_length=maxlen))\n",
    "model2.add(Conv1D(num_filters, kernel_size, activation='relu'))\n",
    "model2.add(GlobalMaxPooling1D())\n",
    "model2.add(Dense(10, activation='relu'))\n",
    "model2.add(Dense(1, activation='sigmoid'))\n",
    "model2.compile(optimizer='adam',\n",
    "              loss='binary_crossentropy',\n",
    "              metrics=['accuracy'])\n",
    "model2.summary()"
   ]
  },
  {
   "cell_type": "code",
   "execution_count": 340,
   "id": "331b218e",
   "metadata": {},
   "outputs": [],
   "source": [
    "Y=train_data['label'].values\n",
    "Y_test=test_data['label'].values"
   ]
  },
  {
   "cell_type": "code",
   "execution_count": 341,
   "id": "4bf1ca47",
   "metadata": {},
   "outputs": [
    {
     "name": "stdout",
     "output_type": "stream",
     "text": [
      "Epoch 1/10\n",
      "782/782 [==============================] - 65s 82ms/step - loss: 0.4100 - accuracy: 0.8051 - val_loss: 0.2783 - val_accuracy: 0.8835\n",
      "Epoch 2/10\n",
      "782/782 [==============================] - 66s 84ms/step - loss: 0.2040 - accuracy: 0.9190 - val_loss: 0.2614 - val_accuracy: 0.8912\n",
      "Epoch 3/10\n",
      "782/782 [==============================] - 66s 84ms/step - loss: 0.0997 - accuracy: 0.9683 - val_loss: 0.2952 - val_accuracy: 0.8911\n",
      "Epoch 4/10\n",
      "782/782 [==============================] - 66s 84ms/step - loss: 0.0331 - accuracy: 0.9930 - val_loss: 0.3514 - val_accuracy: 0.8902\n",
      "Epoch 5/10\n",
      "782/782 [==============================] - 66s 84ms/step - loss: 0.0076 - accuracy: 0.9994 - val_loss: 0.4059 - val_accuracy: 0.8886\n",
      "Epoch 6/10\n",
      "782/782 [==============================] - 65s 83ms/step - loss: 0.0022 - accuracy: 1.0000 - val_loss: 0.4316 - val_accuracy: 0.8907\n",
      "Epoch 7/10\n",
      "782/782 [==============================] - 64s 82ms/step - loss: 0.0011 - accuracy: 1.0000 - val_loss: 0.4566 - val_accuracy: 0.8916\n",
      "Epoch 8/10\n",
      "782/782 [==============================] - 64s 81ms/step - loss: 7.3501e-04 - accuracy: 1.0000 - val_loss: 0.4939 - val_accuracy: 0.8919\n",
      "Epoch 9/10\n",
      "782/782 [==============================] - 64s 81ms/step - loss: 2.3508e-04 - accuracy: 1.0000 - val_loss: 0.5226 - val_accuracy: 0.8914\n",
      "Epoch 10/10\n",
      "782/782 [==============================] - 64s 81ms/step - loss: 1.0293e-04 - accuracy: 1.0000 - val_loss: 0.5479 - val_accuracy: 0.8922\n"
     ]
    }
   ],
   "source": [
    "\n",
    "hist=model2.fit(X_train, Y,epochs=epochs,verbose=True,validation_data=(X_test, Y_test),batch_size=batch_size)"
   ]
  },
  {
   "cell_type": "code",
   "execution_count": 342,
   "id": "850e69dc",
   "metadata": {},
   "outputs": [
    {
     "name": "stdout",
     "output_type": "stream",
     "text": [
      "Training Accuracy: 1.0000\n",
      "Testing Accuracy:  0.8922\n"
     ]
    }
   ],
   "source": [
    "loss, accuracy = model2.evaluate(X_train, Y, verbose=False)\n",
    "print(\"Training Accuracy: {:.4f}\".format(accuracy))\n",
    "loss, accuracy = model2.evaluate(X_test, Y_test, verbose=False)\n",
    "print(\"Testing Accuracy:  {:.4f}\".format(accuracy))"
   ]
  },
  {
   "cell_type": "markdown",
   "id": "94d11d60",
   "metadata": {},
   "source": [
    "### Score CNN"
   ]
  },
  {
   "cell_type": "code",
   "execution_count": 343,
   "id": "088606b2",
   "metadata": {},
   "outputs": [
    {
     "data": {
      "image/png": "[encoded data removed]",
      "text/plain": [
       "<Figure size 432x288 with 1 Axes>"
      ]
     },
     "metadata": {
      "needs_background": "light"
     },
     "output_type": "display_data"
    },
    {
     "data": {
      "image/png": "[encoded data removed]",
      "text/plain": [
       "<Figure size 432x288 with 1 Axes>"
      ]
     },
     "metadata": {
      "needs_background": "light"
     },
     "output_type": "display_data"
    }
   ],
   "source": [
    "historyA=hist\n",
    "plt.plot(historyA.history['accuracy'])\n",
    "plt.plot(historyA.history['val_accuracy'])\n",
    "plt.title('model accuracy')\n",
    "plt.ylabel('accuracy')\n",
    "plt.xlabel('epoch')\n",
    "plt.legend(['train', 'test'], loc='upper left')\n",
    "plt.show()\n",
    "\n",
    "# summarize history for loss\n",
    "plt.plot(historyA.history['loss'])\n",
    "plt.plot(historyA.history['val_loss'])\n",
    "plt.title('model loss')\n",
    "plt.ylabel('loss')\n",
    "plt.xlabel('epoch')\n",
    "plt.legend(['train', 'test'], loc='upper left')\n",
    "plt.show()"
   ]
  },
  {
   "cell_type": "markdown",
   "id": "b63262c3",
   "metadata": {},
   "source": [
    "### Save CNN"
   ]
  },
  {
   "cell_type": "code",
   "execution_count": 423,
   "id": "ebdb35ca",
   "metadata": {},
   "outputs": [],
   "source": [
    "model2.save('trained_model_CNN1.h5')\n",
    "\n",
    "with open('trained_tokenizer_CNN1.pkl', 'wb') as f: # creates a pickle file 'trained_tokenizer.pkl'\n",
    "    pickle.dump(tokenizer, f)"
   ]
  },
  {
   "cell_type": "markdown",
   "id": "8240d9e0",
   "metadata": {},
   "source": [
    "## Model RNN"
   ]
  },
  {
   "cell_type": "code",
   "execution_count": 419,
   "id": "e4ae88f4",
   "metadata": {},
   "outputs": [],
   "source": [
    "max_features = 10000\n",
    "maxlen = 1000\n",
    "\n",
    "tokenizer = Tokenizer(num_words=5000)\n",
    "tokenizer.fit_on_texts(data)\n",
    "X_train = tokenizer.texts_to_sequences(train_data['comment'])\n",
    "X_test = tokenizer.texts_to_sequences(test_data['comment'])\n",
    "vocab_size = len(tokenizer.word_index) + 1 \n",
    "\n",
    "train_data1 = sequence.pad_sequences(X_train, maxlen=maxlen)\n",
    "test_data1 = sequence.pad_sequences(X_test, maxlen=maxlen)\n",
    " "
   ]
  },
  {
   "cell_type": "code",
   "execution_count": 393,
   "id": "bd34027b",
   "metadata": {},
   "outputs": [],
   "source": [
    "model3 = Sequential()\n",
    "model3.add(Embedding(max_features, 32))\n",
    "model3.add(SimpleRNN(32))\n",
    "model3.add(Dense(32, activation='relu'))\n",
    "model3.add(Dense(32, activation='relu'))\n",
    "model3.add(Dense(1, activation='sigmoid'))\n",
    " \n",
    "model3.compile(optimizer='rmsprop',\n",
    "              loss='binary_crossentropy',\n",
    "              metrics=['acc'])\n",
    " \n"
   ]
  },
  {
   "cell_type": "code",
   "execution_count": 394,
   "id": "738a9472",
   "metadata": {},
   "outputs": [
    {
     "name": "stdout",
     "output_type": "stream",
     "text": [
      "Epoch 1/10\n",
      "157/157 [==============================] - 22s 136ms/step - loss: 0.6388 - acc: 0.6360 - val_loss: 0.9782 - val_acc: 0.2106\n",
      "Epoch 2/10\n",
      "157/157 [==============================] - 21s 134ms/step - loss: 0.4402 - acc: 0.7975 - val_loss: 0.4585 - val_acc: 0.7966\n",
      "Epoch 3/10\n",
      "157/157 [==============================] - 21s 135ms/step - loss: 0.2942 - acc: 0.8765 - val_loss: 0.3686 - val_acc: 0.8568\n",
      "Epoch 4/10\n",
      "157/157 [==============================] - 21s 135ms/step - loss: 0.2023 - acc: 0.9208 - val_loss: 0.3036 - val_acc: 0.9012\n",
      "Epoch 5/10\n",
      "157/157 [==============================] - 21s 134ms/step - loss: 0.1162 - acc: 0.9586 - val_loss: 1.0588 - val_acc: 0.6582\n",
      "Epoch 6/10\n",
      "157/157 [==============================] - 21s 134ms/step - loss: 0.0580 - acc: 0.9798 - val_loss: 1.4079 - val_acc: 0.6362\n",
      "Epoch 7/10\n",
      "157/157 [==============================] - 21s 135ms/step - loss: 0.0331 - acc: 0.9898 - val_loss: 1.0618 - val_acc: 0.7658\n",
      "Epoch 8/10\n",
      "157/157 [==============================] - 21s 135ms/step - loss: 0.0157 - acc: 0.9954 - val_loss: 1.1117 - val_acc: 0.7916\n",
      "Epoch 9/10\n",
      "157/157 [==============================] - 21s 135ms/step - loss: 0.0100 - acc: 0.9969 - val_loss: 1.7736 - val_acc: 0.7268\n",
      "Epoch 10/10\n",
      "157/157 [==============================] - 21s 135ms/step - loss: 0.0105 - acc: 0.9962 - val_loss: 0.7959 - val_acc: 0.8710\n"
     ]
    }
   ],
   "source": [
    "history = model3.fit(train_data1, Y,\n",
    "                    epochs=10,\n",
    "                    batch_size=128,\n",
    "                    validation_split=0.2)\n",
    " "
   ]
  },
  {
   "cell_type": "code",
   "execution_count": 395,
   "id": "ae74578f",
   "metadata": {},
   "outputs": [
    {
     "data": {
      "image/png": "[encoded data removed]",
      "text/plain": [
       "<Figure size 432x288 with 1 Axes>"
      ]
     },
     "metadata": {
      "needs_background": "light"
     },
     "output_type": "display_data"
    },
    {
     "data": {
      "image/png": "[encoded data removed]",
      "text/plain": [
       "<Figure size 432x288 with 1 Axes>"
      ]
     },
     "metadata": {
      "needs_background": "light"
     },
     "output_type": "display_data"
    }
   ],
   "source": [
    "plot_results(history)"
   ]
  },
  {
   "cell_type": "code",
   "execution_count": 396,
   "id": "7fe73776",
   "metadata": {},
   "outputs": [
    {
     "name": "stdout",
     "output_type": "stream",
     "text": [
      "Test loss: 1.259011149406433\n",
      "Test accuracy: 0.7987200021743774\n"
     ]
    }
   ],
   "source": [
    "score = model3.evaluate(test_data1, Y_test, verbose=0)\n",
    "print('Test loss:', score[0])\n",
    "print('Test accuracy:', score[1])"
   ]
  },
  {
   "cell_type": "code",
   "execution_count": 397,
   "id": "56d01890",
   "metadata": {},
   "outputs": [],
   "source": [
    "model3.save('trained_model_RNN2.h5')\n",
    "\n",
    "with open('trained_tokenizer_RNN3.pkl', 'wb') as f: # creates a pickle file 'trained_tokenizer.pkl'\n",
    "    pickle.dump(tokenizer, f)"
   ]
  },
  {
   "cell_type": "code",
   "execution_count": 398,
   "id": "4c767729",
   "metadata": {},
   "outputs": [
    {
     "name": "stdout",
     "output_type": "stream",
     "text": [
      "Collecting gradio\n",
      "  Downloading gradio-3.0.10-py3-none-any.whl (5.1 MB)\n",
      "Requirement already satisfied: paramiko in c:\\users\\remen\\anaconda3\\lib\\site-packages (from gradio) (2.7.2)\n",
      "Collecting uvicorn\n",
      "  Downloading uvicorn-0.17.6-py3-none-any.whl (53 kB)\n",
      "Collecting aiohttp\n",
      "  Downloading aiohttp-3.8.1-cp39-cp39-win_amd64.whl (554 kB)\n",
      "Collecting fastapi\n",
      "  Downloading fastapi-0.78.0-py3-none-any.whl (54 kB)\n",
      "Collecting analytics-python\n",
      "  Downloading analytics_python-1.4.0-py2.py3-none-any.whl (15 kB)\n",
      "Requirement already satisfied: Jinja2 in c:\\users\\remen\\anaconda3\\lib\\site-packages (from gradio) (2.11.3)\n",
      "Requirement already satisfied: requests in c:\\users\\remen\\anaconda3\\lib\\site-packages (from gradio) (2.26.0)\n",
      "Collecting orjson\n",
      "  Downloading orjson-3.7.0-cp39-none-win_amd64.whl (189 kB)\n",
      "Requirement already satisfied: matplotlib in c:\\users\\remen\\anaconda3\\lib\\site-packages (from gradio) (3.4.3)\n",
      "Collecting python-multipart\n",
      "  Downloading python-multipart-0.0.5.tar.gz (32 kB)\n",
      "Collecting markdown-it-py[linkify,plugins]\n",
      "  Downloading markdown_it_py-2.1.0-py3-none-any.whl (84 kB)\n",
      "Requirement already satisfied: pandas in c:\\users\\remen\\anaconda3\\lib\\site-packages (from gradio) (1.3.4)\n",
      "Requirement already satisfied: pillow in c:\\users\\remen\\anaconda3\\lib\\site-packages (from gradio) (8.4.0)\n",
      "Collecting pydub\n",
      "  Downloading pydub-0.25.1-py2.py3-none-any.whl (32 kB)\n",
      "Collecting pycryptodome\n",
      "  Downloading pycryptodome-3.14.1-cp35-abi3-win_amd64.whl (1.8 MB)\n",
      "Collecting ffmpy\n",
      "  Downloading ffmpy-0.3.0.tar.gz (4.8 kB)\n",
      "Requirement already satisfied: numpy in c:\\users\\remen\\anaconda3\\lib\\site-packages (from gradio) (1.20.3)\n",
      "Requirement already satisfied: attrs>=17.3.0 in c:\\users\\remen\\anaconda3\\lib\\site-packages (from aiohttp->gradio) (21.2.0)\n",
      "Requirement already satisfied: charset-normalizer<3.0,>=2.0 in c:\\users\\remen\\anaconda3\\lib\\site-packages (from aiohttp->gradio) (2.0.4)\n",
      "Collecting multidict<7.0,>=4.5\n",
      "  Downloading multidict-6.0.2-cp39-cp39-win_amd64.whl (28 kB)\n",
      "Collecting async-timeout<5.0,>=4.0.0a3\n",
      "  Downloading async_timeout-4.0.2-py3-none-any.whl (5.8 kB)\n",
      "Collecting aiosignal>=1.1.2\n",
      "  Downloading aiosignal-1.2.0-py3-none-any.whl (8.2 kB)\n",
      "Collecting yarl<2.0,>=1.0\n",
      "  Downloading yarl-1.7.2-cp39-cp39-win_amd64.whl (122 kB)\n",
      "Collecting frozenlist>=1.1.1\n",
      "  Downloading frozenlist-1.3.0-cp39-cp39-win_amd64.whl (33 kB)\n",
      "Requirement already satisfied: idna>=2.0 in c:\\users\\remen\\anaconda3\\lib\\site-packages (from yarl<2.0,>=1.0->aiohttp->gradio) (3.2)\n",
      "Requirement already satisfied: six>=1.5 in c:\\users\\remen\\anaconda3\\lib\\site-packages (from analytics-python->gradio) (1.16.0)\n",
      "Requirement already satisfied: python-dateutil>2.1 in c:\\users\\remen\\anaconda3\\lib\\site-packages (from analytics-python->gradio) (2.8.2)\n",
      "Collecting backoff==1.10.0\n",
      "  Downloading backoff-1.10.0-py2.py3-none-any.whl (31 kB)\n",
      "Collecting monotonic>=1.5\n",
      "  Downloading monotonic-1.6-py2.py3-none-any.whl (8.2 kB)\n",
      "Requirement already satisfied: certifi>=2017.4.17 in c:\\users\\remen\\anaconda3\\lib\\site-packages (from requests->gradio) (2021.10.8)\n",
      "Requirement already satisfied: urllib3<1.27,>=1.21.1 in c:\\users\\remen\\anaconda3\\lib\\site-packages (from requests->gradio) (1.26.7)\n",
      "Collecting pydantic!=1.7,!=1.7.1,!=1.7.2,!=1.7.3,!=1.8,!=1.8.1,<2.0.0,>=1.6.2\n",
      "  Downloading pydantic-1.9.1-cp39-cp39-win_amd64.whl (2.0 MB)\n",
      "Collecting starlette==0.19.1\n",
      "  Downloading starlette-0.19.1-py3-none-any.whl (63 kB)\n",
      "Requirement already satisfied: typing-extensions>=3.10.0 in c:\\users\\remen\\anaconda3\\lib\\site-packages (from starlette==0.19.1->fastapi->gradio) (3.10.0.2)\n",
      "Collecting anyio<5,>=3.4.0\n",
      "  Downloading anyio-3.6.1-py3-none-any.whl (80 kB)\n",
      "Requirement already satisfied: sniffio>=1.1 in c:\\users\\remen\\anaconda3\\lib\\site-packages (from anyio<5,>=3.4.0->starlette==0.19.1->fastapi->gradio) (1.2.0)\n",
      "Requirement already satisfied: MarkupSafe>=0.23 in c:\\users\\remen\\anaconda3\\lib\\site-packages (from Jinja2->gradio) (1.1.1)\n",
      "Collecting mdurl~=0.1\n",
      "  Downloading mdurl-0.1.1-py3-none-any.whl (10 kB)\n",
      "Collecting mdit-py-plugins\n",
      "  Downloading mdit_py_plugins-0.3.0-py3-none-any.whl (43 kB)\n",
      "Collecting linkify-it-py~=1.0\n",
      "  Downloading linkify_it_py-1.0.3-py3-none-any.whl (19 kB)\n",
      "Collecting uc-micro-py\n",
      "  Downloading uc_micro_py-1.0.1-py3-none-any.whl (6.2 kB)\n",
      "Requirement already satisfied: cycler>=0.10 in c:\\users\\remen\\anaconda3\\lib\\site-packages (from matplotlib->gradio) (0.10.0)\n",
      "Requirement already satisfied: pyparsing>=2.2.1 in c:\\users\\remen\\anaconda3\\lib\\site-packages (from matplotlib->gradio) (3.0.4)\n",
      "Requirement already satisfied: kiwisolver>=1.0.1 in c:\\users\\remen\\anaconda3\\lib\\site-packages (from matplotlib->gradio) (1.3.1)\n",
      "Requirement already satisfied: pytz>=2017.3 in c:\\users\\remen\\anaconda3\\lib\\site-packages (from pandas->gradio) (2021.3)\n",
      "Requirement already satisfied: bcrypt>=3.1.3 in c:\\users\\remen\\anaconda3\\lib\\site-packages (from paramiko->gradio) (3.2.0)\n",
      "Requirement already satisfied: cryptography>=2.5 in c:\\users\\remen\\anaconda3\\lib\\site-packages (from paramiko->gradio) (3.4.8)\n",
      "Requirement already satisfied: pynacl>=1.0.1 in c:\\users\\remen\\anaconda3\\lib\\site-packages (from paramiko->gradio) (1.4.0)\n",
      "Requirement already satisfied: cffi>=1.1 in c:\\users\\remen\\anaconda3\\lib\\site-packages (from bcrypt>=3.1.3->paramiko->gradio) (1.14.6)\n",
      "Requirement already satisfied: pycparser in c:\\users\\remen\\anaconda3\\lib\\site-packages (from cffi>=1.1->bcrypt>=3.1.3->paramiko->gradio) (2.20)\n",
      "Collecting asgiref>=3.4.0\n",
      "  Downloading asgiref-3.5.2-py3-none-any.whl (22 kB)\n",
      "Requirement already satisfied: click>=7.0 in c:\\users\\remen\\anaconda3\\lib\\site-packages (from uvicorn->gradio) (8.0.3)\n",
      "Collecting h11>=0.8\n",
      "  Downloading h11-0.13.0-py3-none-any.whl (58 kB)\n",
      "Requirement already satisfied: colorama in c:\\users\\remen\\anaconda3\\lib\\site-packages (from click>=7.0->uvicorn->gradio) (0.4.4)\n",
      "Building wheels for collected packages: ffmpy, python-multipart\n",
      "  Building wheel for ffmpy (setup.py): started\n",
      "  Building wheel for ffmpy (setup.py): finished with status 'done'\n",
      "  Created wheel for ffmpy: filename=ffmpy-0.3.0-py3-none-any.whl size=4710 sha256=9be46e02d33689cda7bc64cc1479f1737a2913824fb866389b9b8db41203b1a3\n",
      "  Stored in directory: c:\\users\\remen\\appdata\\local\\pip\\cache\\wheels\\91\\e2\\96\\f676aa08bfd789328c6576cd0f1fde4a3d686703bb0c247697\n",
      "  Building wheel for python-multipart (setup.py): started\n",
      "  Building wheel for python-multipart (setup.py): finished with status 'done'\n",
      "  Created wheel for python-multipart: filename=python_multipart-0.0.5-py3-none-any.whl size=31678 sha256=b81e35e8d1d23d61aab648e75f12e0276066d2afec27b8a83de2f1f2e38ac77d\n",
      "  Stored in directory: c:\\users\\remen\\appdata\\local\\pip\\cache\\wheels\\fe\\04\\d1\\a10661cc45f03c3cecda50deb2d2c22f57b4e84a75b2a5987e\n",
      "Successfully built ffmpy python-multipart\n",
      "Installing collected packages: mdurl, uc-micro-py, multidict, markdown-it-py, frozenlist, anyio, yarl, starlette, pydantic, monotonic, mdit-py-plugins, linkify-it-py, h11, backoff, async-timeout, asgiref, aiosignal, uvicorn, python-multipart, pydub, pycryptodome, orjson, ffmpy, fastapi, analytics-python, aiohttp, gradio\n",
      "  Attempting uninstall: anyio\n",
      "    Found existing installation: anyio 2.2.0\n",
      "    Uninstalling anyio-2.2.0:\n",
      "      Successfully uninstalled anyio-2.2.0\n",
      "Successfully installed aiohttp-3.8.1 aiosignal-1.2.0 analytics-python-1.4.0 anyio-3.6.1 asgiref-3.5.2 async-timeout-4.0.2 backoff-1.10.0 fastapi-0.78.0 ffmpy-0.3.0 frozenlist-1.3.0 gradio-3.0.10 h11-0.13.0 linkify-it-py-1.0.3 markdown-it-py-2.1.0 mdit-py-plugins-0.3.0 mdurl-0.1.1 monotonic-1.6 multidict-6.0.2 orjson-3.7.0 pycryptodome-3.14.1 pydantic-1.9.1 pydub-0.25.1 python-multipart-0.0.5 starlette-0.19.1 uc-micro-py-1.0.1 uvicorn-0.17.6 yarl-1.7.2\n"
     ]
    },
    {
     "name": "stderr",
     "output_type": "stream",
     "text": [
      "WARNING: Ignoring invalid distribution -rotobuf (c:\\users\\remen\\anaconda3\\lib\\site-packages)\n",
      "WARNING: Ignoring invalid distribution -rotobuf (c:\\users\\remen\\anaconda3\\lib\\site-packages)\n",
      "WARNING: Ignoring invalid distribution -rotobuf (c:\\users\\remen\\anaconda3\\lib\\site-packages)\n",
      "    WARNING: Ignoring invalid distribution -rotobuf (c:\\users\\remen\\anaconda3\\lib\\site-packages)\n",
      "WARNING: Ignoring invalid distribution -rotobuf (c:\\users\\remen\\anaconda3\\lib\\site-packages)\n",
      "WARNING: Ignoring invalid distribution -rotobuf (c:\\users\\remen\\anaconda3\\lib\\site-packages)\n",
      "WARNING: Ignoring invalid distribution -rotobuf (c:\\users\\remen\\anaconda3\\lib\\site-packages)\n",
      "WARNING: Ignoring invalid distribution -rotobuf (c:\\users\\remen\\anaconda3\\lib\\site-packages)\n",
      "WARNING: Ignoring invalid distribution -rotobuf (c:\\users\\remen\\anaconda3\\lib\\site-packages)\n",
      "WARNING: Ignoring invalid distribution -rotobuf (c:\\users\\remen\\anaconda3\\lib\\site-packages)\n",
      "WARNING: Ignoring invalid distribution -rotobuf (c:\\users\\remen\\anaconda3\\lib\\site-packages)\n",
      "WARNING: Ignoring invalid distribution -rotobuf (c:\\users\\remen\\anaconda3\\lib\\site-packages)\n",
      "WARNING: Ignoring invalid distribution -rotobuf (c:\\users\\remen\\anaconda3\\lib\\site-packages)\n",
      "WARNING: Ignoring invalid distribution -rotobuf (c:\\users\\remen\\anaconda3\\lib\\site-packages)\n",
      "WARNING: Ignoring invalid distribution -rotobuf (c:\\users\\remen\\anaconda3\\lib\\site-packages)\n",
      "WARNING: Ignoring invalid distribution -rotobuf (c:\\users\\remen\\anaconda3\\lib\\site-packages)\n",
      "WARNING: Ignoring invalid distribution -rotobuf (c:\\users\\remen\\anaconda3\\lib\\site-packages)\n",
      "WARNING: Ignoring invalid distribution -rotobuf (c:\\users\\remen\\anaconda3\\lib\\site-packages)\n",
      "WARNING: Ignoring invalid distribution -rotobuf (c:\\users\\remen\\anaconda3\\lib\\site-packages)\n",
      "WARNING: Ignoring invalid distribution -rotobuf (c:\\users\\remen\\anaconda3\\lib\\site-packages)\n",
      "WARNING: Ignoring invalid distribution -rotobuf (c:\\users\\remen\\anaconda3\\lib\\site-packages)\n",
      "WARNING: Ignoring invalid distribution -rotobuf (c:\\users\\remen\\anaconda3\\lib\\site-packages)\n",
      "WARNING: Ignoring invalid distribution -rotobuf (c:\\users\\remen\\anaconda3\\lib\\site-packages)\n",
      "WARNING: Ignoring invalid distribution -rotobuf (c:\\users\\remen\\anaconda3\\lib\\site-packages)\n",
      "WARNING: Ignoring invalid distribution -rotobuf (c:\\users\\remen\\anaconda3\\lib\\site-packages)\n",
      "WARNING: Ignoring invalid distribution -rotobuf (c:\\users\\remen\\anaconda3\\lib\\site-packages)\n",
      "WARNING: Ignoring invalid distribution -rotobuf (c:\\users\\remen\\anaconda3\\lib\\site-packages)\n",
      "WARNING: Ignoring invalid distribution -rotobuf (c:\\users\\remen\\anaconda3\\lib\\site-packages)\n",
      "WARNING: Ignoring invalid distribution -rotobuf (c:\\users\\remen\\anaconda3\\lib\\site-packages)\n",
      "WARNING: Ignoring invalid distribution -rotobuf (c:\\users\\remen\\anaconda3\\lib\\site-packages)\n",
      "WARNING: Ignoring invalid distribution -rotobuf (c:\\users\\remen\\anaconda3\\lib\\site-packages)\n",
      "WARNING: Ignoring invalid distribution -rotobuf (c:\\users\\remen\\anaconda3\\lib\\site-packages)\n",
      "WARNING: Ignoring invalid distribution -rotobuf (c:\\users\\remen\\anaconda3\\lib\\site-packages)\n",
      "WARNING: Ignoring invalid distribution -rotobuf (c:\\users\\remen\\anaconda3\\lib\\site-packages)\n"
     ]
    }
   ],
   "source": [
    "!pip install gradio"
   ]
  },
  {
   "cell_type": "markdown",
   "id": "d0b2a309",
   "metadata": {},
   "source": [
    "## MLOP"
   ]
  },
  {
   "cell_type": "code",
   "execution_count": 408,
   "id": "f4104268",
   "metadata": {},
   "outputs": [
    {
     "ename": "ContextualVersionConflict",
     "evalue": "(anyio 2.2.0 (c:\\users\\remen\\anaconda3\\lib\\site-packages), Requirement.parse('anyio<5,>=3.4.0'), {'starlette'})",
     "output_type": "error",
     "traceback": [
      "\u001b[1;31m---------------------------------------------------------------------------\u001b[0m",
      "\u001b[1;31mContextualVersionConflict\u001b[0m                 Traceback (most recent call last)",
      "\u001b[1;32m~\\AppData\\Local\\Temp/ipykernel_19916/2390322104.py\u001b[0m in \u001b[0;36m<module>\u001b[1;34m\u001b[0m\n\u001b[1;32m----> 1\u001b[1;33m \u001b[1;32mimport\u001b[0m \u001b[0mgradio\u001b[0m \u001b[1;32mas\u001b[0m \u001b[0mgr\u001b[0m\u001b[1;33m\u001b[0m\u001b[1;33m\u001b[0m\u001b[0m\n\u001b[0m",
      "\u001b[1;32m~\\anaconda3\\lib\\site-packages\\gradio\\__init__.py\u001b[0m in \u001b[0;36m<module>\u001b[1;34m\u001b[0m\n\u001b[0;32m     67\u001b[0m )\n\u001b[0;32m     68\u001b[0m \u001b[1;33m\u001b[0m\u001b[0m\n\u001b[1;32m---> 69\u001b[1;33m \u001b[0mcurrent_pkg_version\u001b[0m \u001b[1;33m=\u001b[0m \u001b[0mpkg_resources\u001b[0m\u001b[1;33m.\u001b[0m\u001b[0mrequire\u001b[0m\u001b[1;33m(\u001b[0m\u001b[1;34m\"gradio\"\u001b[0m\u001b[1;33m)\u001b[0m\u001b[1;33m[\u001b[0m\u001b[1;36m0\u001b[0m\u001b[1;33m]\u001b[0m\u001b[1;33m.\u001b[0m\u001b[0mversion\u001b[0m\u001b[1;33m\u001b[0m\u001b[1;33m\u001b[0m\u001b[0m\n\u001b[0m\u001b[0;32m     70\u001b[0m \u001b[0m__version__\u001b[0m \u001b[1;33m=\u001b[0m \u001b[0mcurrent_pkg_version\u001b[0m\u001b[1;33m\u001b[0m\u001b[1;33m\u001b[0m\u001b[0m\n",
      "\u001b[1;32m~\\anaconda3\\lib\\site-packages\\pkg_resources\\__init__.py\u001b[0m in \u001b[0;36mrequire\u001b[1;34m(self, *requirements)\u001b[0m\n\u001b[0;32m    884\u001b[0m         \u001b[0mincluded\u001b[0m\u001b[1;33m,\u001b[0m \u001b[0meven\u001b[0m \u001b[1;32mif\u001b[0m \u001b[0mthey\u001b[0m \u001b[0mwere\u001b[0m \u001b[0malready\u001b[0m \u001b[0mactivated\u001b[0m \u001b[1;32min\u001b[0m \u001b[0mthis\u001b[0m \u001b[0mworking\u001b[0m \u001b[0mset\u001b[0m\u001b[1;33m.\u001b[0m\u001b[1;33m\u001b[0m\u001b[1;33m\u001b[0m\u001b[0m\n\u001b[0;32m    885\u001b[0m         \"\"\"\n\u001b[1;32m--> 886\u001b[1;33m         \u001b[0mneeded\u001b[0m \u001b[1;33m=\u001b[0m \u001b[0mself\u001b[0m\u001b[1;33m.\u001b[0m\u001b[0mresolve\u001b[0m\u001b[1;33m(\u001b[0m\u001b[0mparse_requirements\u001b[0m\u001b[1;33m(\u001b[0m\u001b[0mrequirements\u001b[0m\u001b[1;33m)\u001b[0m\u001b[1;33m)\u001b[0m\u001b[1;33m\u001b[0m\u001b[1;33m\u001b[0m\u001b[0m\n\u001b[0m\u001b[0;32m    887\u001b[0m \u001b[1;33m\u001b[0m\u001b[0m\n\u001b[0;32m    888\u001b[0m         \u001b[1;32mfor\u001b[0m \u001b[0mdist\u001b[0m \u001b[1;32min\u001b[0m \u001b[0mneeded\u001b[0m\u001b[1;33m:\u001b[0m\u001b[1;33m\u001b[0m\u001b[1;33m\u001b[0m\u001b[0m\n",
      "\u001b[1;32m~\\anaconda3\\lib\\site-packages\\pkg_resources\\__init__.py\u001b[0m in \u001b[0;36mresolve\u001b[1;34m(self, requirements, env, installer, replace_conflicting, extras)\u001b[0m\n\u001b[0;32m    775\u001b[0m                 \u001b[1;31m# Oops, the \"best\" so far conflicts with a dependency\u001b[0m\u001b[1;33m\u001b[0m\u001b[1;33m\u001b[0m\u001b[0m\n\u001b[0;32m    776\u001b[0m                 \u001b[0mdependent_req\u001b[0m \u001b[1;33m=\u001b[0m \u001b[0mrequired_by\u001b[0m\u001b[1;33m[\u001b[0m\u001b[0mreq\u001b[0m\u001b[1;33m]\u001b[0m\u001b[1;33m\u001b[0m\u001b[1;33m\u001b[0m\u001b[0m\n\u001b[1;32m--> 777\u001b[1;33m                 \u001b[1;32mraise\u001b[0m \u001b[0mVersionConflict\u001b[0m\u001b[1;33m(\u001b[0m\u001b[0mdist\u001b[0m\u001b[1;33m,\u001b[0m \u001b[0mreq\u001b[0m\u001b[1;33m)\u001b[0m\u001b[1;33m.\u001b[0m\u001b[0mwith_context\u001b[0m\u001b[1;33m(\u001b[0m\u001b[0mdependent_req\u001b[0m\u001b[1;33m)\u001b[0m\u001b[1;33m\u001b[0m\u001b[1;33m\u001b[0m\u001b[0m\n\u001b[0m\u001b[0;32m    778\u001b[0m \u001b[1;33m\u001b[0m\u001b[0m\n\u001b[0;32m    779\u001b[0m             \u001b[1;31m# push the new requirements onto the stack\u001b[0m\u001b[1;33m\u001b[0m\u001b[1;33m\u001b[0m\u001b[0m\n",
      "\u001b[1;31mContextualVersionConflict\u001b[0m: (anyio 2.2.0 (c:\\users\\remen\\anaconda3\\lib\\site-packages), Requirement.parse('anyio<5,>=3.4.0'), {'starlette'})"
     ]
    }
   ],
   "source": [
    "import gradio as gr"
   ]
  },
  {
   "cell_type": "code",
   "execution_count": 425,
   "id": "89ed1ef6",
   "metadata": {},
   "outputs": [
    {
     "name": "stdout",
     "output_type": "stream",
     "text": [
      "{'Positive': 1.5331954728026176e-07}\n"
     ]
    },
    {
     "ename": "NameError",
     "evalue": "name 'gr' is not defined",
     "output_type": "error",
     "traceback": [
      "\u001b[1;31m---------------------------------------------------------------------------\u001b[0m",
      "\u001b[1;31mNameError\u001b[0m                                 Traceback (most recent call last)",
      "\u001b[1;32m~\\AppData\\Local\\Temp/ipykernel_19916/3165199108.py\u001b[0m in \u001b[0;36m<module>\u001b[1;34m\u001b[0m\n\u001b[0;32m     12\u001b[0m \u001b[1;33m\u001b[0m\u001b[0m\n\u001b[0;32m     13\u001b[0m \u001b[1;31m#setup the interface\u001b[0m\u001b[1;33m\u001b[0m\u001b[1;33m\u001b[0m\u001b[0m\n\u001b[1;32m---> 14\u001b[1;33m iface = gr.Interface(\n\u001b[0m\u001b[0;32m     15\u001b[0m     \u001b[0mfn\u001b[0m \u001b[1;33m=\u001b[0m \u001b[0mpositive_or_negative\u001b[0m\u001b[1;33m,\u001b[0m\u001b[1;33m\u001b[0m\u001b[1;33m\u001b[0m\u001b[0m\n\u001b[0;32m     16\u001b[0m     \u001b[0minputs\u001b[0m \u001b[1;33m=\u001b[0m \u001b[1;34m\"text\"\u001b[0m\u001b[1;33m,\u001b[0m\u001b[1;33m\u001b[0m\u001b[1;33m\u001b[0m\u001b[0m\n",
      "\u001b[1;31mNameError\u001b[0m: name 'gr' is not defined"
     ]
    }
   ],
   "source": [
    "#create a function to make predictions\n",
    "#return a dictionary of labels and probabilities\n",
    "def positive_or_negative(text):\n",
    "    text=text.lower()# change all text to lower\n",
    "    data = re.sub('[^a-zA-z0-9\\s]','',text)\n",
    "    data=tokenizer.texts_to_sequences([data])\n",
    "    data = pad_sequences(data, padding='post', maxlen=500)\n",
    "    prediction = model2.predict(data).tolist()[0]\n",
    "    class_names = [\"Positive\", \"Negative\"]\n",
    "    return {class_names[i]: prediction[i] for i in range(1)}\n",
    "print(positive_or_negative('i am not ok with this'))\n",
    "\n",
    "#setup the interface\n",
    "iface = gr.Interface(\n",
    "    fn = positive_or_negative, \n",
    "    inputs = \"text\", \n",
    "    outputs = gr.outputs.Label(),\n",
    ")\n",
    "iface.launch(share=True)"
   ]
  }
 ],
 "metadata": {
  "kernelspec": {
   "display_name": "Python 3 (ipykernel)",
   "language": "python",
   "name": "python3"
  },
  "language_info": {
   "codemirror_mode": {
    "name": "ipython",
    "version": 3
   },
   "file_extension": ".py",
   "mimetype": "text/x-python",
   "name": "python",
   "nbconvert_exporter": "python",
   "pygments_lexer": "ipython3",
   "version": "3.9.7"
  }
 },
 "nbformat": 4,
 "nbformat_minor": 5
}
