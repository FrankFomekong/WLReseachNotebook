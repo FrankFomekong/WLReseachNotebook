{
 "cells": [
  {
   "cell_type": "markdown",
   "id": "a3494411",
   "metadata": {},
   "source": [
    "# SENTIMENT ANALYSIS"
   ]
  },
  {
   "cell_type": "code",
   "execution_count": 1,
   "id": "270785de",
   "metadata": {},
   "outputs": [],
   "source": [
    "## By Fomekong Tchoffo Frank Borel"
   ]
  },
  {
   "cell_type": "code",
   "execution_count": 450,
   "id": "6ab7a71b",
   "metadata": {},
   "outputs": [],
   "source": [
    "import pandas as pd\n",
    "import glob\n",
    "import time\n",
    "import re\n",
    "import pickle\n",
    "from keras.preprocessing.text import Tokenizer\n",
    "from keras.preprocessing.sequence import pad_sequences\n",
    "from keras.preprocessing import sequence\n",
    "from keras.layers import SimpleRNN,Conv1D,Conv2D, Flatten, MaxPooling2D, Dropout,MaxPooling1D,GlobalMaxPooling1D,GRU,Bidirectional\n",
    "\n",
    "from keras.models import Sequential,Model\n",
    "from keras.layers import Dense, Embedding, LSTM\n",
    "import numpy as np\n",
    "\n",
    "import tensorflow as tf\n",
    "from sklearn import metrics\n",
    "\n",
    "\n",
    "from nltk.stem.porter import PorterStemmer\n",
    "\n",
    "from sklearn.metrics import classification_report,confusion_matrix,accuracy_score\n"
   ]
  },
  {
   "cell_type": "markdown",
   "id": "4e99ac20",
   "metadata": {},
   "source": [
    "## Plot"
   ]
  },
  {
   "cell_type": "code",
   "execution_count": 451,
   "id": "bf90aaaf",
   "metadata": {},
   "outputs": [],
   "source": [
    "import matplotlib.pyplot as plt"
   ]
  },
  {
   "cell_type": "code",
   "execution_count": 452,
   "id": "759e7e83",
   "metadata": {},
   "outputs": [],
   "source": [
    "def plot_graphs(history, metric):\n",
    "    plt.plot(history.history[metric])\n",
    "    plt.plot(history.history['val_'+metric], '')\n",
    "    plt.xlabel(\"Epochs\")\n",
    "    plt.ylabel(metric)\n",
    "    plt.legend([metric, 'val_'+metric])"
   ]
  },
  {
   "cell_type": "code",
   "execution_count": 453,
   "id": "14f5c975",
   "metadata": {},
   "outputs": [],
   "source": [
    "def plot_results(history):\n",
    "    acc = history.history['acc']\n",
    "    val_acc = history.history['val_acc']\n",
    "    loss = history.history['loss']\n",
    "    val_loss = history.history['val_loss']\n",
    "    \n",
    "    epochs = range(1, len(acc) + 1)\n",
    "    plt.plot(epochs, acc, 'bo', label='Training Accuracy')\n",
    "    plt.plot(epochs, val_acc, 'b', label='Validation Accuracy')\n",
    " \n",
    "    plt.title('Training and validation Accuracy')\n",
    "    plt.legend()\n",
    "    plt.figure()\n",
    "    plt.plot(epochs, loss, 'bo', label='Training Loss')\n",
    "    plt.plot(epochs, val_loss, 'b', label='Validation Loss')\n",
    "    plt.title('Training and validation Loss')\n",
    "    plt.legend()\n",
    "    plt.show()"
   ]
  },
  {
   "cell_type": "markdown",
   "id": "d2da81b7",
   "metadata": {},
   "source": [
    "## Load Data"
   ]
  },
  {
   "cell_type": "code",
   "execution_count": 454,
   "id": "ce770321",
   "metadata": {},
   "outputs": [],
   "source": [
    "def Load_data(path1,out_name):\n",
    "    '''Here we represent data like this negative is 0\n",
    "        and positive is 1\n",
    "    '''\n",
    "    paths=path1\n",
    "    datas={\"comment\":[],\"label\":[]}\n",
    "    file_listpos=glob.glob(paths+\"/pos/*.txt\")\n",
    "    file_listneg=glob.glob(paths+\"/neg/*.txt\")\n",
    "    for file in file_listpos:\n",
    "        file=open(file,\"r\")\n",
    "        p=file.read()\n",
    "        datas[\"comment\"].append(p)\n",
    "        datas[\"label\"].append(1)\n",
    "        file.close()\n",
    "    for file in file_listneg:\n",
    "        file=open(file,\"r\")\n",
    "        p=file.read()\n",
    "        datas[\"comment\"].append(p)\n",
    "        datas[\"label\"].append(0)\n",
    "        file.close()\n",
    "    df=pd.DataFrame.from_dict(datas)\n",
    "#     print(df)\n",
    "    df.to_csv(\"./\"+str(out_name)+\".csv\", index=False)"
   ]
  },
  {
   "cell_type": "markdown",
   "id": "c77937a8",
   "metadata": {},
   "source": [
    "### Load Test Data"
   ]
  },
  {
   "cell_type": "code",
   "execution_count": 186,
   "id": "133fbfe8",
   "metadata": {},
   "outputs": [
    {
     "name": "stdout",
     "output_type": "stream",
     "text": [
      "\n",
      "==============================================================\n",
      "All Treatment took :  0.0 seconds\n",
      "==============================================================\n"
     ]
    }
   ],
   "source": [
    "start = time.perf_counter()\n",
    "Load_data(\"./aclImdb/test\",\"test\")\n",
    "end = time.perf_counter()\n",
    "print(\"\\n==============================================================\")\n",
    "print(\"All Treatment took : \", round(end - start, 2), 'seconds')\n",
    "print(\"==============================================================\")"
   ]
  },
  {
   "cell_type": "markdown",
   "id": "a6d9a949",
   "metadata": {},
   "source": [
    "### Load Unsup"
   ]
  },
  {
   "cell_type": "code",
   "execution_count": 187,
   "id": "b055d794",
   "metadata": {},
   "outputs": [],
   "source": [
    "paths=\"./unsup\"\n",
    "datas={\"comment\":[]}\n",
    "file_listpos=glob.glob(paths+\"/*.txt\")\n",
    "for file in file_listpos:\n",
    "    file=open(file,\"r\",encoding=\"utf8\")\n",
    "    p=file.read()\n",
    "    datas[\"comment\"].append(p)\n",
    "    file.close()\n",
    "df=pd.DataFrame.from_dict(datas)\n",
    "#     print(df)\n",
    "df.to_csv(\"./unsup\"+\".csv\", index=False)"
   ]
  },
  {
   "cell_type": "code",
   "execution_count": 470,
   "id": "910384db",
   "metadata": {},
   "outputs": [
    {
     "data": {
      "text/html": [
       "<div>\n",
       "<style scoped>\n",
       "    .dataframe tbody tr th:only-of-type {\n",
       "        vertical-align: middle;\n",
       "    }\n",
       "\n",
       "    .dataframe tbody tr th {\n",
       "        vertical-align: top;\n",
       "    }\n",
       "\n",
       "    .dataframe thead th {\n",
       "        text-align: right;\n",
       "    }\n",
       "</style>\n",
       "<table border=\"1\" class=\"dataframe\">\n",
       "  <thead>\n",
       "    <tr style=\"text-align: right;\">\n",
       "      <th></th>\n",
       "      <th>comment</th>\n",
       "    </tr>\n",
       "  </thead>\n",
       "  <tbody>\n",
       "    <tr>\n",
       "      <th>0</th>\n",
       "      <td>I admit, the great majority of films released ...</td>\n",
       "    </tr>\n",
       "    <tr>\n",
       "      <th>1</th>\n",
       "      <td>Take a low budget, inexperienced actors doubli...</td>\n",
       "    </tr>\n",
       "    <tr>\n",
       "      <th>2</th>\n",
       "      <td>Everybody has seen 'Back To The Future,' right...</td>\n",
       "    </tr>\n",
       "    <tr>\n",
       "      <th>3</th>\n",
       "      <td>Doris Day was an icon of beauty in singing and...</td>\n",
       "    </tr>\n",
       "    <tr>\n",
       "      <th>4</th>\n",
       "      <td>After a series of silly, fun-loving movies, 19...</td>\n",
       "    </tr>\n",
       "    <tr>\n",
       "      <th>5</th>\n",
       "      <td>This isn't exactly a musical, but it almost se...</td>\n",
       "    </tr>\n",
       "    <tr>\n",
       "      <th>6</th>\n",
       "      <td>After seven years and seventeen pictures at Wa...</td>\n",
       "    </tr>\n",
       "    <tr>\n",
       "      <th>7</th>\n",
       "      <td>In the 1950's there were many film boigraphies...</td>\n",
       "    </tr>\n",
       "    <tr>\n",
       "      <th>8</th>\n",
       "      <td>MY RATING- 7.3&lt;br /&gt;&lt;br /&gt;This one is a curiou...</td>\n",
       "    </tr>\n",
       "    <tr>\n",
       "      <th>9</th>\n",
       "      <td>Doris Day and James Cagney are excellent in th...</td>\n",
       "    </tr>\n",
       "  </tbody>\n",
       "</table>\n",
       "</div>"
      ],
      "text/plain": [
       "                                             comment\n",
       "0  I admit, the great majority of films released ...\n",
       "1  Take a low budget, inexperienced actors doubli...\n",
       "2  Everybody has seen 'Back To The Future,' right...\n",
       "3  Doris Day was an icon of beauty in singing and...\n",
       "4  After a series of silly, fun-loving movies, 19...\n",
       "5  This isn't exactly a musical, but it almost se...\n",
       "6  After seven years and seventeen pictures at Wa...\n",
       "7  In the 1950's there were many film boigraphies...\n",
       "8  MY RATING- 7.3<br /><br />This one is a curiou...\n",
       "9  Doris Day and James Cagney are excellent in th..."
      ]
     },
     "execution_count": 470,
     "metadata": {},
     "output_type": "execute_result"
    }
   ],
   "source": [
    "unsup_data=pd.read_csv('unsup.csv')\n",
    "unsup_data.head(10)"
   ]
  },
  {
   "cell_type": "code",
   "execution_count": 456,
   "id": "efdaba2e",
   "metadata": {},
   "outputs": [
    {
     "data": {
      "text/plain": [
       "(50000, 1)"
      ]
     },
     "execution_count": 456,
     "metadata": {},
     "output_type": "execute_result"
    }
   ],
   "source": [
    "unsup_data.shape"
   ]
  },
  {
   "cell_type": "markdown",
   "id": "183ef83f",
   "metadata": {},
   "source": [
    "#### Some Test data"
   ]
  },
  {
   "cell_type": "code",
   "execution_count": 473,
   "id": "78300fcb",
   "metadata": {},
   "outputs": [
    {
     "data": {
      "text/html": [
       "<div>\n",
       "<style scoped>\n",
       "    .dataframe tbody tr th:only-of-type {\n",
       "        vertical-align: middle;\n",
       "    }\n",
       "\n",
       "    .dataframe tbody tr th {\n",
       "        vertical-align: top;\n",
       "    }\n",
       "\n",
       "    .dataframe thead th {\n",
       "        text-align: right;\n",
       "    }\n",
       "</style>\n",
       "<table border=\"1\" class=\"dataframe\">\n",
       "  <thead>\n",
       "    <tr style=\"text-align: right;\">\n",
       "      <th></th>\n",
       "      <th>comment</th>\n",
       "      <th>label</th>\n",
       "    </tr>\n",
       "  </thead>\n",
       "  <tbody>\n",
       "    <tr>\n",
       "      <th>0</th>\n",
       "      <td>We have moved far beyond this tentative foray ...</td>\n",
       "      <td>1</td>\n",
       "    </tr>\n",
       "    <tr>\n",
       "      <th>1</th>\n",
       "      <td>Rififi, directed by Jules Dassin, is in line w...</td>\n",
       "      <td>1</td>\n",
       "    </tr>\n",
       "    <tr>\n",
       "      <th>2</th>\n",
       "      <td>...that maybe someday people will wake up to. ...</td>\n",
       "      <td>1</td>\n",
       "    </tr>\n",
       "    <tr>\n",
       "      <th>3</th>\n",
       "      <td>I've seen this movie more than once and it's w...</td>\n",
       "      <td>1</td>\n",
       "    </tr>\n",
       "    <tr>\n",
       "      <th>4</th>\n",
       "      <td>The young John Garfield turned in a fine perfo...</td>\n",
       "      <td>1</td>\n",
       "    </tr>\n",
       "    <tr>\n",
       "      <th>...</th>\n",
       "      <td>...</td>\n",
       "      <td>...</td>\n",
       "    </tr>\n",
       "    <tr>\n",
       "      <th>95</th>\n",
       "      <td>I am a massive Hitchcock fan, ever since seein...</td>\n",
       "      <td>1</td>\n",
       "    </tr>\n",
       "    <tr>\n",
       "      <th>96</th>\n",
       "      <td>Yes!! They finally got it down to perfection. ...</td>\n",
       "      <td>1</td>\n",
       "    </tr>\n",
       "    <tr>\n",
       "      <th>97</th>\n",
       "      <td>I had the good fortune to be at Perris Island ...</td>\n",
       "      <td>1</td>\n",
       "    </tr>\n",
       "    <tr>\n",
       "      <th>98</th>\n",
       "      <td>This is definitely the biggest surprise of the...</td>\n",
       "      <td>1</td>\n",
       "    </tr>\n",
       "    <tr>\n",
       "      <th>99</th>\n",
       "      <td>A classic 80's movie that Disney for some reas...</td>\n",
       "      <td>1</td>\n",
       "    </tr>\n",
       "  </tbody>\n",
       "</table>\n",
       "<p>100 rows × 2 columns</p>\n",
       "</div>"
      ],
      "text/plain": [
       "                                              comment  label\n",
       "0   We have moved far beyond this tentative foray ...      1\n",
       "1   Rififi, directed by Jules Dassin, is in line w...      1\n",
       "2   ...that maybe someday people will wake up to. ...      1\n",
       "3   I've seen this movie more than once and it's w...      1\n",
       "4   The young John Garfield turned in a fine perfo...      1\n",
       "..                                                ...    ...\n",
       "95  I am a massive Hitchcock fan, ever since seein...      1\n",
       "96  Yes!! They finally got it down to perfection. ...      1\n",
       "97  I had the good fortune to be at Perris Island ...      1\n",
       "98  This is definitely the biggest surprise of the...      1\n",
       "99  A classic 80's movie that Disney for some reas...      1\n",
       "\n",
       "[100 rows x 2 columns]"
      ]
     },
     "execution_count": 473,
     "metadata": {},
     "output_type": "execute_result"
    }
   ],
   "source": [
    "test_data=pd.read_csv(\"test.csv\",encoding=\"latin\")\n",
    "test_data.head(100)"
   ]
  },
  {
   "cell_type": "markdown",
   "id": "bc6611ae",
   "metadata": {},
   "source": [
    "#### Test Size"
   ]
  },
  {
   "cell_type": "code",
   "execution_count": 458,
   "id": "e5fb27fe",
   "metadata": {},
   "outputs": [
    {
     "data": {
      "text/plain": [
       "(25000, 2)"
      ]
     },
     "execution_count": 458,
     "metadata": {},
     "output_type": "execute_result"
    }
   ],
   "source": [
    "test_data.shape"
   ]
  },
  {
   "cell_type": "markdown",
   "id": "1d37cbea",
   "metadata": {},
   "source": [
    "### Load Train Data"
   ]
  },
  {
   "cell_type": "code",
   "execution_count": 27,
   "id": "0eae670b",
   "metadata": {},
   "outputs": [
    {
     "name": "stdout",
     "output_type": "stream",
     "text": [
      "\n",
      "==============================================================\n",
      "All Treatment took :  79.4 seconds\n",
      "==============================================================\n"
     ]
    }
   ],
   "source": [
    "start = time.perf_counter()\n",
    "Load_data(\"./aclImdb/train\",\"train\")\n",
    "end = time.perf_counter()\n",
    "print(\"\\n==============================================================\")\n",
    "print(\"All Treatment took : \", round(end - start, 2), 'seconds')\n",
    "print(\"==============================================================\")"
   ]
  },
  {
   "cell_type": "markdown",
   "id": "ec7a1e9c",
   "metadata": {},
   "source": [
    "#### Some  Train Data"
   ]
  },
  {
   "cell_type": "code",
   "execution_count": 472,
   "id": "a66cef9e",
   "metadata": {},
   "outputs": [
    {
     "data": {
      "text/html": [
       "<div>\n",
       "<style scoped>\n",
       "    .dataframe tbody tr th:only-of-type {\n",
       "        vertical-align: middle;\n",
       "    }\n",
       "\n",
       "    .dataframe tbody tr th {\n",
       "        vertical-align: top;\n",
       "    }\n",
       "\n",
       "    .dataframe thead th {\n",
       "        text-align: right;\n",
       "    }\n",
       "</style>\n",
       "<table border=\"1\" class=\"dataframe\">\n",
       "  <thead>\n",
       "    <tr style=\"text-align: right;\">\n",
       "      <th></th>\n",
       "      <th>comment</th>\n",
       "      <th>label</th>\n",
       "    </tr>\n",
       "  </thead>\n",
       "  <tbody>\n",
       "    <tr>\n",
       "      <th>0</th>\n",
       "      <td>The combination of reading the Novella and vie...</td>\n",
       "      <td>1</td>\n",
       "    </tr>\n",
       "    <tr>\n",
       "      <th>1</th>\n",
       "      <td>I watched the presentation of this on PBS in t...</td>\n",
       "      <td>1</td>\n",
       "    </tr>\n",
       "    <tr>\n",
       "      <th>2</th>\n",
       "      <td>Having to have someone hold your hand whenever...</td>\n",
       "      <td>1</td>\n",
       "    </tr>\n",
       "    <tr>\n",
       "      <th>3</th>\n",
       "      <td>I really enjoyed this movie. It succeeded in d...</td>\n",
       "      <td>1</td>\n",
       "    </tr>\n",
       "    <tr>\n",
       "      <th>4</th>\n",
       "      <td>Watching \"Ossessione\" today -- more than 6 dec...</td>\n",
       "      <td>1</td>\n",
       "    </tr>\n",
       "    <tr>\n",
       "      <th>...</th>\n",
       "      <td>...</td>\n",
       "      <td>...</td>\n",
       "    </tr>\n",
       "    <tr>\n",
       "      <th>95</th>\n",
       "      <td>The story of a drifter, his sheep ranch boss, ...</td>\n",
       "      <td>1</td>\n",
       "    </tr>\n",
       "    <tr>\n",
       "      <th>96</th>\n",
       "      <td>\"The Shop Around the Corner\" is one of the gre...</td>\n",
       "      <td>1</td>\n",
       "    </tr>\n",
       "    <tr>\n",
       "      <th>97</th>\n",
       "      <td>By God, it's been a long time since I saw this...</td>\n",
       "      <td>1</td>\n",
       "    </tr>\n",
       "    <tr>\n",
       "      <th>98</th>\n",
       "      <td>The Flock is unjustly maligned as a lesser \"Se...</td>\n",
       "      <td>1</td>\n",
       "    </tr>\n",
       "    <tr>\n",
       "      <th>99</th>\n",
       "      <td>I have watched this film twice now and think i...</td>\n",
       "      <td>1</td>\n",
       "    </tr>\n",
       "  </tbody>\n",
       "</table>\n",
       "<p>100 rows × 2 columns</p>\n",
       "</div>"
      ],
      "text/plain": [
       "                                              comment  label\n",
       "0   The combination of reading the Novella and vie...      1\n",
       "1   I watched the presentation of this on PBS in t...      1\n",
       "2   Having to have someone hold your hand whenever...      1\n",
       "3   I really enjoyed this movie. It succeeded in d...      1\n",
       "4   Watching \"Ossessione\" today -- more than 6 dec...      1\n",
       "..                                                ...    ...\n",
       "95  The story of a drifter, his sheep ranch boss, ...      1\n",
       "96  \"The Shop Around the Corner\" is one of the gre...      1\n",
       "97  By God, it's been a long time since I saw this...      1\n",
       "98  The Flock is unjustly maligned as a lesser \"Se...      1\n",
       "99  I have watched this film twice now and think i...      1\n",
       "\n",
       "[100 rows x 2 columns]"
      ]
     },
     "execution_count": 472,
     "metadata": {},
     "output_type": "execute_result"
    }
   ],
   "source": [
    "train_data=pd.read_csv(\"train.csv\",encoding=\"latin\")\n",
    "train_data.head(100)"
   ]
  },
  {
   "cell_type": "markdown",
   "id": "6326d7b8",
   "metadata": {},
   "source": [
    "#### Train Size"
   ]
  },
  {
   "cell_type": "code",
   "execution_count": 460,
   "id": "e923fe64",
   "metadata": {},
   "outputs": [
    {
     "data": {
      "text/plain": [
       "(25000, 2)"
      ]
     },
     "execution_count": 460,
     "metadata": {},
     "output_type": "execute_result"
    }
   ],
   "source": [
    "train_data.shape"
   ]
  },
  {
   "cell_type": "markdown",
   "id": "2fb4de23",
   "metadata": {},
   "source": [
    "### Preprocessing Data"
   ]
  },
  {
   "cell_type": "code",
   "execution_count": 468,
   "id": "8148b04d",
   "metadata": {},
   "outputs": [],
   "source": [
    "#Removing the square brackets\n",
    "def remove_between_square_brackets(text):\n",
    "    return re.sub('\\[[^]]*\\]', '', text)\n",
    "\n",
    "#Removing the noisy text\n",
    "def denoise_text(text):\n",
    "    text = remove_between_square_brackets(text)\n",
    "    return text\n",
    "\n",
    "def remove_special_characters(text, remove_digits=True):\n",
    "    pattern=r'[^a-zA-z0-9\\s]'\n",
    "    text=re.sub(pattern,'',text)\n",
    "    return text\n",
    "\n",
    "def simple_stemmer(text):\n",
    "    ps=nltk.porter.PorterStemmer()\n",
    "    text= ' '.join([ps.stem(word) for word in text.split()])\n",
    "    return text\n",
    "\n",
    "#Removing html tag\n",
    "def cleanhtml(raw_html):\n",
    "    cleanr = re.compile('<.*?>')\n",
    "    cleantext = re.sub(cleanr, '', raw_html)\n",
    "    return cleantext\n",
    "\n",
    "def preprocess_data(data):\n",
    "    data['comment'] = data['comment'].apply(cleanhtml)\n",
    "    data['comment'] = data['comment'].apply(lambda x: x.lower()) # change all text to lower\n",
    "    data['comment'] = data['comment'].apply((lambda x: re.sub('[^a-zA-z0-9\\s]','',x)))\n",
    "    data['comment'] = data['comment'].apply(remove_between_square_brackets)\n",
    "    data['comment'] = data['comment'].apply(denoise_text)\n",
    "    data['comment'] = data['comment'].apply(simple_stemmer)\n",
    "    return data"
   ]
  },
  {
   "cell_type": "markdown",
   "id": "d260ab23",
   "metadata": {},
   "source": [
    "### On Unsupervised data"
   ]
  },
  {
   "cell_type": "code",
   "execution_count": 471,
   "id": "589b74f3",
   "metadata": {},
   "outputs": [
    {
     "data": {
      "text/html": [
       "<div>\n",
       "<style scoped>\n",
       "    .dataframe tbody tr th:only-of-type {\n",
       "        vertical-align: middle;\n",
       "    }\n",
       "\n",
       "    .dataframe tbody tr th {\n",
       "        vertical-align: top;\n",
       "    }\n",
       "\n",
       "    .dataframe thead th {\n",
       "        text-align: right;\n",
       "    }\n",
       "</style>\n",
       "<table border=\"1\" class=\"dataframe\">\n",
       "  <thead>\n",
       "    <tr style=\"text-align: right;\">\n",
       "      <th></th>\n",
       "      <th>comment</th>\n",
       "    </tr>\n",
       "  </thead>\n",
       "  <tbody>\n",
       "    <tr>\n",
       "      <th>0</th>\n",
       "      <td>i admit the great major of film releas befor s...</td>\n",
       "    </tr>\n",
       "    <tr>\n",
       "      <th>1</th>\n",
       "      <td>take a low budget inexperienc actor doubl as p...</td>\n",
       "    </tr>\n",
       "    <tr>\n",
       "      <th>2</th>\n",
       "      <td>everybodi ha seen back to the futur right whet...</td>\n",
       "    </tr>\n",
       "    <tr>\n",
       "      <th>3</th>\n",
       "      <td>dori day wa an icon of beauti in sing and act ...</td>\n",
       "    </tr>\n",
       "    <tr>\n",
       "      <th>4</th>\n",
       "      <td>after a seri of silli funlov movi 1955 wa a bi...</td>\n",
       "    </tr>\n",
       "    <tr>\n",
       "      <th>5</th>\n",
       "      <td>thi isnt exactli a music but it almost seem li...</td>\n",
       "    </tr>\n",
       "    <tr>\n",
       "      <th>6</th>\n",
       "      <td>after seven year and seventeen pictur at warne...</td>\n",
       "    </tr>\n",
       "    <tr>\n",
       "      <th>7</th>\n",
       "      <td>in the 1950 there were mani film boigraphi for...</td>\n",
       "    </tr>\n",
       "    <tr>\n",
       "      <th>8</th>\n",
       "      <td>my rate 73thi one is a curiou mov made when ja...</td>\n",
       "    </tr>\n",
       "    <tr>\n",
       "      <th>9</th>\n",
       "      <td>dori day and jame cagney are excel in thi lush...</td>\n",
       "    </tr>\n",
       "  </tbody>\n",
       "</table>\n",
       "</div>"
      ],
      "text/plain": [
       "                                             comment\n",
       "0  i admit the great major of film releas befor s...\n",
       "1  take a low budget inexperienc actor doubl as p...\n",
       "2  everybodi ha seen back to the futur right whet...\n",
       "3  dori day wa an icon of beauti in sing and act ...\n",
       "4  after a seri of silli funlov movi 1955 wa a bi...\n",
       "5  thi isnt exactli a music but it almost seem li...\n",
       "6  after seven year and seventeen pictur at warne...\n",
       "7  in the 1950 there were mani film boigraphi for...\n",
       "8  my rate 73thi one is a curiou mov made when ja...\n",
       "9  dori day and jame cagney are excel in thi lush..."
      ]
     },
     "execution_count": 471,
     "metadata": {},
     "output_type": "execute_result"
    }
   ],
   "source": [
    "unsup_data=preprocess_data(unsup_data)\n",
    "unsup_data.head(10)"
   ]
  },
  {
   "cell_type": "markdown",
   "id": "7a7a8223",
   "metadata": {},
   "source": [
    "#### On Train Data"
   ]
  },
  {
   "cell_type": "code",
   "execution_count": 474,
   "id": "7611b91f",
   "metadata": {},
   "outputs": [
    {
     "data": {
      "text/html": [
       "<div>\n",
       "<style scoped>\n",
       "    .dataframe tbody tr th:only-of-type {\n",
       "        vertical-align: middle;\n",
       "    }\n",
       "\n",
       "    .dataframe tbody tr th {\n",
       "        vertical-align: top;\n",
       "    }\n",
       "\n",
       "    .dataframe thead th {\n",
       "        text-align: right;\n",
       "    }\n",
       "</style>\n",
       "<table border=\"1\" class=\"dataframe\">\n",
       "  <thead>\n",
       "    <tr style=\"text-align: right;\">\n",
       "      <th></th>\n",
       "      <th>comment</th>\n",
       "      <th>label</th>\n",
       "    </tr>\n",
       "  </thead>\n",
       "  <tbody>\n",
       "    <tr>\n",
       "      <th>0</th>\n",
       "      <td>the combin of read the novella and view thi fi...</td>\n",
       "      <td>1</td>\n",
       "    </tr>\n",
       "    <tr>\n",
       "      <th>1</th>\n",
       "      <td>i watch the present of thi on pb in the us whe...</td>\n",
       "      <td>1</td>\n",
       "    </tr>\n",
       "    <tr>\n",
       "      <th>2</th>\n",
       "      <td>have to have someon hold your hand whenev walk...</td>\n",
       "      <td>1</td>\n",
       "    </tr>\n",
       "    <tr>\n",
       "      <th>3</th>\n",
       "      <td>i realli enjoy thi movi it succeed in do somet...</td>\n",
       "      <td>1</td>\n",
       "    </tr>\n",
       "    <tr>\n",
       "      <th>4</th>\n",
       "      <td>watch ossession today more than 6 decad later ...</td>\n",
       "      <td>1</td>\n",
       "    </tr>\n",
       "    <tr>\n",
       "      <th>5</th>\n",
       "      <td>ani one who ha seen mel gibson the passion of ...</td>\n",
       "      <td>1</td>\n",
       "    </tr>\n",
       "    <tr>\n",
       "      <th>6</th>\n",
       "      <td>let me say first that thi show wa top tier whe...</td>\n",
       "      <td>1</td>\n",
       "    </tr>\n",
       "    <tr>\n",
       "      <th>7</th>\n",
       "      <td>the notori betti page 2006 12 gretchen mol lil...</td>\n",
       "      <td>1</td>\n",
       "    </tr>\n",
       "    <tr>\n",
       "      <th>8</th>\n",
       "      <td>as someon who live near buffalo new york thi m...</td>\n",
       "      <td>1</td>\n",
       "    </tr>\n",
       "    <tr>\n",
       "      <th>9</th>\n",
       "      <td>i bought the video rather late in my collect a...</td>\n",
       "      <td>1</td>\n",
       "    </tr>\n",
       "  </tbody>\n",
       "</table>\n",
       "</div>"
      ],
      "text/plain": [
       "                                             comment  label\n",
       "0  the combin of read the novella and view thi fi...      1\n",
       "1  i watch the present of thi on pb in the us whe...      1\n",
       "2  have to have someon hold your hand whenev walk...      1\n",
       "3  i realli enjoy thi movi it succeed in do somet...      1\n",
       "4  watch ossession today more than 6 decad later ...      1\n",
       "5  ani one who ha seen mel gibson the passion of ...      1\n",
       "6  let me say first that thi show wa top tier whe...      1\n",
       "7  the notori betti page 2006 12 gretchen mol lil...      1\n",
       "8  as someon who live near buffalo new york thi m...      1\n",
       "9  i bought the video rather late in my collect a...      1"
      ]
     },
     "execution_count": 474,
     "metadata": {},
     "output_type": "execute_result"
    }
   ],
   "source": [
    "train_data=preprocess_data(train_data)\n",
    "train_data.head(10)"
   ]
  },
  {
   "cell_type": "markdown",
   "id": "762b3097",
   "metadata": {},
   "source": [
    "#### On test Data"
   ]
  },
  {
   "cell_type": "code",
   "execution_count": 475,
   "id": "37d51035",
   "metadata": {},
   "outputs": [
    {
     "data": {
      "text/html": [
       "<div>\n",
       "<style scoped>\n",
       "    .dataframe tbody tr th:only-of-type {\n",
       "        vertical-align: middle;\n",
       "    }\n",
       "\n",
       "    .dataframe tbody tr th {\n",
       "        vertical-align: top;\n",
       "    }\n",
       "\n",
       "    .dataframe thead th {\n",
       "        text-align: right;\n",
       "    }\n",
       "</style>\n",
       "<table border=\"1\" class=\"dataframe\">\n",
       "  <thead>\n",
       "    <tr style=\"text-align: right;\">\n",
       "      <th></th>\n",
       "      <th>comment</th>\n",
       "      <th>label</th>\n",
       "    </tr>\n",
       "  </thead>\n",
       "  <tbody>\n",
       "    <tr>\n",
       "      <th>0</th>\n",
       "      <td>we have move far beyond thi tent foray into a ...</td>\n",
       "      <td>1</td>\n",
       "    </tr>\n",
       "    <tr>\n",
       "      <th>1</th>\n",
       "      <td>rififi direct by jule dassin is in line with t...</td>\n",
       "      <td>1</td>\n",
       "    </tr>\n",
       "    <tr>\n",
       "      <th>2</th>\n",
       "      <td>that mayb someday peopl will wake up to peopl ...</td>\n",
       "      <td>1</td>\n",
       "    </tr>\n",
       "    <tr>\n",
       "      <th>3</th>\n",
       "      <td>ive seen thi movi more than onc and it worth i...</td>\n",
       "      <td>1</td>\n",
       "    </tr>\n",
       "    <tr>\n",
       "      <th>4</th>\n",
       "      <td>the young john garfield turn in a fine perform...</td>\n",
       "      <td>1</td>\n",
       "    </tr>\n",
       "    <tr>\n",
       "      <th>5</th>\n",
       "      <td>if you like paddi chayevski network youll prob...</td>\n",
       "      <td>1</td>\n",
       "    </tr>\n",
       "    <tr>\n",
       "      <th>6</th>\n",
       "      <td>i agre with andi thi is a good movi kevin mcki...</td>\n",
       "      <td>1</td>\n",
       "    </tr>\n",
       "    <tr>\n",
       "      <th>7</th>\n",
       "      <td>great movi good act a wonder script it excit t...</td>\n",
       "      <td>1</td>\n",
       "    </tr>\n",
       "    <tr>\n",
       "      <th>8</th>\n",
       "      <td>the famili happi is crumbl when the from the b...</td>\n",
       "      <td>1</td>\n",
       "    </tr>\n",
       "    <tr>\n",
       "      <th>9</th>\n",
       "      <td>the murder in opera are not actual murder as m...</td>\n",
       "      <td>1</td>\n",
       "    </tr>\n",
       "  </tbody>\n",
       "</table>\n",
       "</div>"
      ],
      "text/plain": [
       "                                             comment  label\n",
       "0  we have move far beyond thi tent foray into a ...      1\n",
       "1  rififi direct by jule dassin is in line with t...      1\n",
       "2  that mayb someday peopl will wake up to peopl ...      1\n",
       "3  ive seen thi movi more than onc and it worth i...      1\n",
       "4  the young john garfield turn in a fine perform...      1\n",
       "5  if you like paddi chayevski network youll prob...      1\n",
       "6  i agre with andi thi is a good movi kevin mcki...      1\n",
       "7  great movi good act a wonder script it excit t...      1\n",
       "8  the famili happi is crumbl when the from the b...      1\n",
       "9  the murder in opera are not actual murder as m...      1"
      ]
     },
     "execution_count": 475,
     "metadata": {},
     "output_type": "execute_result"
    }
   ],
   "source": [
    "test_data=preprocess_data(test_data)\n",
    "test_data.head(10)"
   ]
  },
  {
   "cell_type": "code",
   "execution_count": 476,
   "id": "1068164d",
   "metadata": {},
   "outputs": [
    {
     "data": {
      "text/plain": [
       "1    12500\n",
       "0    12500\n",
       "Name: label, dtype: int64"
      ]
     },
     "execution_count": 476,
     "metadata": {},
     "output_type": "execute_result"
    }
   ],
   "source": [
    "train_data[\"label\"].value_counts()"
   ]
  },
  {
   "cell_type": "markdown",
   "id": "5a4de623",
   "metadata": {},
   "source": [
    "## Tokenization"
   ]
  },
  {
   "cell_type": "markdown",
   "id": "656a91d4",
   "metadata": {},
   "source": [
    "### Tokenizer Generator"
   ]
  },
  {
   "cell_type": "code",
   "execution_count": 477,
   "id": "e4f55e9d",
   "metadata": {},
   "outputs": [],
   "source": [
    "def tokengen(maxword=100):\n",
    "    return Tokenizer(num_words=maxword,lower=True, split=\" \")"
   ]
  },
  {
   "cell_type": "code",
   "execution_count": 478,
   "id": "3cd57883",
   "metadata": {},
   "outputs": [
    {
     "data": {
      "text/plain": [
       "(25000, 500)"
      ]
     },
     "execution_count": 478,
     "metadata": {},
     "output_type": "execute_result"
    }
   ],
   "source": [
    "max_features = 5000\n",
    "maxlength = 500\n",
    "data=np.concatenate((train_data['comment'].values,unsup_data['comment'].values))\n",
    "tokenizer = Tokenizer(num_words=max_features, split=' ')\n",
    "tokenizer.fit_on_texts(train_data['comment'].values)\n",
    "X = tokenizer.texts_to_sequences(train_data['comment'].values)\n",
    "\n",
    "\n",
    "# pad sequences\n",
    "X = pad_sequences(X, maxlen=maxlength)\n",
    "X.shape"
   ]
  },
  {
   "cell_type": "code",
   "execution_count": 446,
   "id": "59ea824c",
   "metadata": {
    "scrolled": true
   },
   "outputs": [
    {
     "name": "stdout",
     "output_type": "stream",
     "text": [
      "[[0 1]\n",
      " [0 1]\n",
      " [0 1]\n",
      " ...\n",
      " [1 0]\n",
      " [1 0]\n",
      " [1 0]]\n"
     ]
    }
   ],
   "source": [
    "Y=pd.get_dummies(train_data.label).values\n",
    "print(Y)"
   ]
  },
  {
   "cell_type": "code",
   "execution_count": 479,
   "id": "103e2ca4",
   "metadata": {},
   "outputs": [],
   "source": [
    "X_test = tokenizer.texts_to_sequences(test_data['comment'].values)\n",
    "X_test = pad_sequences(X_test, maxlen=maxlength)\n",
    "Y_test=pd.get_dummies(test_data.label).values"
   ]
  },
  {
   "cell_type": "markdown",
   "id": "b6f82174",
   "metadata": {},
   "source": [
    "## Model LSTM"
   ]
  },
  {
   "cell_type": "code",
   "execution_count": 480,
   "id": "1e1b3821",
   "metadata": {},
   "outputs": [
    {
     "name": "stdout",
     "output_type": "stream",
     "text": [
      "Model: \"sequential_74\"\n",
      "_________________________________________________________________\n",
      " Layer (type)                Output Shape              Param #   \n",
      "=================================================================\n",
      " embedding_55 (Embedding)    (None, 500, 128)          640000    \n",
      "                                                                 \n",
      " lstm_9 (LSTM)               (None, 100)               91600     \n",
      "                                                                 \n",
      " dense_103 (Dense)           (None, 2)                 202       \n",
      "                                                                 \n",
      "=================================================================\n",
      "Total params: 731,802\n",
      "Trainable params: 731,802\n",
      "Non-trainable params: 0\n",
      "_________________________________________________________________\n",
      "None\n"
     ]
    }
   ],
   "source": [
    "embed_dim = 128\n",
    "hidden_units = 100\n",
    "n_classes = 2\n",
    "\n",
    "model = Sequential()\n",
    "model.add(Embedding(max_features, embed_dim, input_length = X.shape[1]))\n",
    "model.add(LSTM(hidden_units))\n",
    "model.add(Dense(n_classes, activation='softmax'))\n",
    "model.compile(loss = 'categorical_crossentropy', optimizer='adam',metrics = ['accuracy'])\n",
    "print(model.summary())"
   ]
  },
  {
   "cell_type": "markdown",
   "id": "92205611",
   "metadata": {},
   "source": [
    "### Fit Model"
   ]
  },
  {
   "cell_type": "code",
   "execution_count": 481,
   "id": "ac77838f",
   "metadata": {
    "scrolled": true
   },
   "outputs": [
    {
     "name": "stdout",
     "output_type": "stream",
     "text": [
      "Epoch 1/10\n",
      "200/200 [==============================] - 178s 884ms/step - loss: 0.4619 - accuracy: 0.7729 - val_loss: 0.6744 - val_accuracy: 0.7054\n",
      "Epoch 2/10\n",
      "200/200 [==============================] - 176s 879ms/step - loss: 0.2775 - accuracy: 0.8906 - val_loss: 0.3917 - val_accuracy: 0.8484\n",
      "Epoch 3/10\n",
      "200/200 [==============================] - 176s 883ms/step - loss: 0.2203 - accuracy: 0.9154 - val_loss: 0.4951 - val_accuracy: 0.7978\n",
      "Epoch 4/10\n",
      "200/200 [==============================] - 176s 881ms/step - loss: 0.1698 - accuracy: 0.9375 - val_loss: 0.4690 - val_accuracy: 0.8430\n",
      "Epoch 5/10\n",
      "200/200 [==============================] - 176s 879ms/step - loss: 0.1363 - accuracy: 0.9495 - val_loss: 0.4579 - val_accuracy: 0.8518\n",
      "Epoch 6/10\n",
      "200/200 [==============================] - 176s 878ms/step - loss: 0.1078 - accuracy: 0.9615 - val_loss: 0.4135 - val_accuracy: 0.8726\n",
      "Epoch 7/10\n",
      "200/200 [==============================] - 175s 877ms/step - loss: 0.1649 - accuracy: 0.9365 - val_loss: 0.7351 - val_accuracy: 0.7600\n",
      "Epoch 8/10\n",
      "200/200 [==============================] - 175s 875ms/step - loss: 0.0977 - accuracy: 0.9646 - val_loss: 0.5793 - val_accuracy: 0.8378\n",
      "Epoch 9/10\n",
      "200/200 [==============================] - 175s 876ms/step - loss: 0.0697 - accuracy: 0.9766 - val_loss: 0.8943 - val_accuracy: 0.8002\n",
      "Epoch 10/10\n",
      "200/200 [==============================] - 175s 877ms/step - loss: 0.0789 - accuracy: 0.9721 - val_loss: 0.5742 - val_accuracy: 0.8424\n",
      "\n",
      "==============================================================\n",
      "All Treatment took :  1758.25 seconds\n",
      "==============================================================\n"
     ]
    }
   ],
   "source": [
    "start = time.perf_counter()\n",
    "historyA=model.fit(X, Y, batch_size = 100, epochs=10, validation_split=0.2)\n",
    "end = time.perf_counter()\n",
    "print(\"\\n==============================================================\")\n",
    "print(\"All Treatment took : \", round(end - start, 2), 'seconds')\n",
    "print(\"==============================================================\")"
   ]
  },
  {
   "cell_type": "code",
   "execution_count": 482,
   "id": "09dd66d5",
   "metadata": {},
   "outputs": [
    {
     "data": {
      "image/png": "[encoded data removed]",
      "text/plain": [
       "<Figure size 432x288 with 1 Axes>"
      ]
     },
     "metadata": {
      "needs_background": "light"
     },
     "output_type": "display_data"
    },
    {
     "data": {
      "image/png": "[encoded data removed]",
      "text/plain": [
       "<Figure size 432x288 with 1 Axes>"
      ]
     },
     "metadata": {
      "needs_background": "light"
     },
     "output_type": "display_data"
    }
   ],
   "source": [
    "plt.plot(historyA.history['accuracy'])\n",
    "plt.plot(historyA.history['val_accuracy'])\n",
    "plt.title('model accuracy')\n",
    "plt.ylabel('accuracy')\n",
    "plt.xlabel('epoch')\n",
    "plt.legend(['train', 'test'], loc='upper left')\n",
    "plt.show()\n",
    "\n",
    "# summarize history for loss\n",
    "plt.plot(historyA.history['loss'])\n",
    "plt.plot(historyA.history['val_loss'])\n",
    "plt.title('model loss')\n",
    "plt.ylabel('loss')\n",
    "plt.xlabel('epoch')\n",
    "plt.legend(['train', 'test'], loc='upper left')\n",
    "plt.show()"
   ]
  },
  {
   "cell_type": "markdown",
   "id": "2235a089",
   "metadata": {},
   "source": [
    "### test model LSTM"
   ]
  },
  {
   "cell_type": "code",
   "execution_count": 483,
   "id": "f5b28676",
   "metadata": {},
   "outputs": [
    {
     "name": "stdout",
     "output_type": "stream",
     "text": [
      "Test loss: 0.5576701760292053\n",
      "Test accuracy: 0.8344799876213074\n"
     ]
    }
   ],
   "source": [
    "score = model.evaluate(X_test, Y_test, verbose=0)\n",
    "print('Test loss:', score[0])\n",
    "print('Test accuracy:', score[1])"
   ]
  },
  {
   "cell_type": "markdown",
   "id": "ab191c35",
   "metadata": {},
   "source": [
    "### Save model and Tokenizer"
   ]
  },
  {
   "cell_type": "code",
   "execution_count": 484,
   "id": "4df3f813",
   "metadata": {},
   "outputs": [],
   "source": [
    "model.save('trained_model_LSTM3.h5')\n",
    "\n",
    "with open('trained_tokenizer113.pkl', 'wb') as f: # creates a pickle file 'trained_tokenizer.pkl'\n",
    "    pickle.dump(tokenizer, f)"
   ]
  },
  {
   "cell_type": "markdown",
   "id": "589b5a18",
   "metadata": {},
   "source": [
    "## Model CNN"
   ]
  },
  {
   "cell_type": "code",
   "execution_count": 485,
   "id": "66c3bd13",
   "metadata": {},
   "outputs": [],
   "source": [
    "epochs = 10\n",
    "maxlen = 500\n",
    "embedding_dim = 50\n",
    "num_filters = 64\n",
    "kernel_size = 5\n",
    "batch_size = 32"
   ]
  },
  {
   "cell_type": "code",
   "execution_count": 486,
   "id": "3d2ce6ac",
   "metadata": {},
   "outputs": [],
   "source": [
    "tokenizer = Tokenizer(num_words=5000)\n",
    "tokenizer.fit_on_texts(data)\n",
    "X_train = tokenizer.texts_to_sequences(train_data['comment'])\n",
    "X_test = tokenizer.texts_to_sequences(test_data['comment'])\n",
    "vocab_size = len(tokenizer.word_index) + 1 "
   ]
  },
  {
   "cell_type": "code",
   "execution_count": 487,
   "id": "d2335f55",
   "metadata": {},
   "outputs": [],
   "source": [
    "X_train = pad_sequences(X_train, padding='post', maxlen=maxlen)\n",
    "X_test = pad_sequences(X_test, padding='post', maxlen=maxlen)"
   ]
  },
  {
   "cell_type": "code",
   "execution_count": 488,
   "id": "e81049cf",
   "metadata": {},
   "outputs": [
    {
     "name": "stdout",
     "output_type": "stream",
     "text": [
      "Model: \"sequential_75\"\n",
      "_________________________________________________________________\n",
      " Layer (type)                Output Shape              Param #   \n",
      "=================================================================\n",
      " embedding_56 (Embedding)    (None, 500, 50)           12340250  \n",
      "                                                                 \n",
      " conv1d_11 (Conv1D)          (None, 496, 64)           16064     \n",
      "                                                                 \n",
      " global_max_pooling1d_5 (Glo  (None, 64)               0         \n",
      " balMaxPooling1D)                                                \n",
      "                                                                 \n",
      " dense_104 (Dense)           (None, 10)                650       \n",
      "                                                                 \n",
      " dense_105 (Dense)           (None, 1)                 11        \n",
      "                                                                 \n",
      "=================================================================\n",
      "Total params: 12,356,975\n",
      "Trainable params: 12,356,975\n",
      "Non-trainable params: 0\n",
      "_________________________________________________________________\n"
     ]
    }
   ],
   "source": [
    "num_classes = 2\n",
    "model2 = Sequential()\n",
    "model2.add(Embedding(vocab_size, embedding_dim, input_length=maxlen))\n",
    "model2.add(Conv1D(num_filters, kernel_size, activation='relu'))\n",
    "model2.add(GlobalMaxPooling1D())\n",
    "model2.add(Dense(10, activation='relu'))\n",
    "model2.add(Dense(1, activation='sigmoid'))\n",
    "model2.compile(optimizer='adam',\n",
    "              loss='binary_crossentropy',\n",
    "              metrics=['accuracy'])\n",
    "model2.summary()"
   ]
  },
  {
   "cell_type": "code",
   "execution_count": 489,
   "id": "50bce3e0",
   "metadata": {},
   "outputs": [],
   "source": [
    "Y=train_data['label'].values\n",
    "Y_test=test_data['label'].values"
   ]
  },
  {
   "cell_type": "code",
   "execution_count": 490,
   "id": "11f87be8",
   "metadata": {},
   "outputs": [
    {
     "name": "stdout",
     "output_type": "stream",
     "text": [
      "Epoch 1/10\n",
      "782/782 [==============================] - 64s 81ms/step - loss: 0.4081 - accuracy: 0.8107 - val_loss: 0.2914 - val_accuracy: 0.8745\n",
      "Epoch 2/10\n",
      "782/782 [==============================] - 63s 81ms/step - loss: 0.2100 - accuracy: 0.9159 - val_loss: 0.2682 - val_accuracy: 0.8906\n",
      "Epoch 3/10\n",
      "782/782 [==============================] - 64s 81ms/step - loss: 0.1090 - accuracy: 0.9640 - val_loss: 0.2962 - val_accuracy: 0.8867\n",
      "Epoch 4/10\n",
      "782/782 [==============================] - 64s 82ms/step - loss: 0.0396 - accuracy: 0.9918 - val_loss: 0.3441 - val_accuracy: 0.8860\n",
      "Epoch 5/10\n",
      "782/782 [==============================] - 64s 81ms/step - loss: 0.0105 - accuracy: 0.9991 - val_loss: 0.4058 - val_accuracy: 0.8847\n",
      "Epoch 6/10\n",
      "782/782 [==============================] - 64s 81ms/step - loss: 0.0036 - accuracy: 0.9998 - val_loss: 0.4450 - val_accuracy: 0.8848\n",
      "Epoch 7/10\n",
      "782/782 [==============================] - 64s 81ms/step - loss: 0.0012 - accuracy: 0.9999 - val_loss: 0.4772 - val_accuracy: 0.8852\n",
      "Epoch 8/10\n",
      "782/782 [==============================] - 64s 82ms/step - loss: 4.5901e-04 - accuracy: 1.0000 - val_loss: 0.5062 - val_accuracy: 0.8860\n",
      "Epoch 9/10\n",
      "782/782 [==============================] - 64s 82ms/step - loss: 2.2064e-04 - accuracy: 1.0000 - val_loss: 0.5303 - val_accuracy: 0.8862\n",
      "Epoch 10/10\n",
      "782/782 [==============================] - 64s 81ms/step - loss: 1.3224e-04 - accuracy: 1.0000 - val_loss: 0.5542 - val_accuracy: 0.8865\n"
     ]
    }
   ],
   "source": [
    "\n",
    "hist=model2.fit(X_train, Y,epochs=epochs,verbose=True,validation_data=(X_test, Y_test),batch_size=batch_size)"
   ]
  },
  {
   "cell_type": "code",
   "execution_count": 491,
   "id": "2e77c95f",
   "metadata": {},
   "outputs": [
    {
     "name": "stdout",
     "output_type": "stream",
     "text": [
      "Training Accuracy: 1.0000\n",
      "Testing Accuracy:  0.8865\n",
      "Testing Loss:  0.5542\n"
     ]
    }
   ],
   "source": [
    "loss, accuracy = model2.evaluate(X_train, Y, verbose=False)\n",
    "print(\"Training Accuracy: {:.4f}\".format(accuracy))\n",
    "loss, accuracy = model2.evaluate(X_test, Y_test, verbose=False)\n",
    "print(\"Testing Accuracy:  {:.4f}\".format(accuracy))\n",
    "print(\"Testing Loss:  {:.4f}\".format(loss))"
   ]
  },
  {
   "cell_type": "markdown",
   "id": "4a05e838",
   "metadata": {},
   "source": [
    "### Score CNN"
   ]
  },
  {
   "cell_type": "code",
   "execution_count": 492,
   "id": "bc81a8b7",
   "metadata": {},
   "outputs": [
    {
     "data": {
      "image/png": "[encoded data removed]",
      "text/plain": [
       "<Figure size 432x288 with 1 Axes>"
      ]
     },
     "metadata": {
      "needs_background": "light"
     },
     "output_type": "display_data"
    },
    {
     "data": {
      "image/png": "[encoded data removed]",
      "text/plain": [
       "<Figure size 432x288 with 1 Axes>"
      ]
     },
     "metadata": {
      "needs_background": "light"
     },
     "output_type": "display_data"
    }
   ],
   "source": [
    "historyA=hist\n",
    "plt.plot(historyA.history['accuracy'])\n",
    "plt.plot(historyA.history['val_accuracy'])\n",
    "plt.title('model accuracy')\n",
    "plt.ylabel('accuracy')\n",
    "plt.xlabel('epoch')\n",
    "plt.legend(['train', 'test'], loc='upper left')\n",
    "plt.show()\n",
    "\n",
    "# summarize history for loss\n",
    "plt.plot(historyA.history['loss'])\n",
    "plt.plot(historyA.history['val_loss'])\n",
    "plt.title('model loss')\n",
    "plt.ylabel('loss')\n",
    "plt.xlabel('epoch')\n",
    "plt.legend(['train', 'test'], loc='upper left')\n",
    "plt.show()"
   ]
  },
  {
   "cell_type": "markdown",
   "id": "b63262c3",
   "metadata": {},
   "source": [
    "### Save CNN"
   ]
  },
  {
   "cell_type": "code",
   "execution_count": 493,
   "id": "c98b69e2",
   "metadata": {},
   "outputs": [],
   "source": [
    "model2.save('trained_model_CNN1.h5')\n",
    "\n",
    "with open('trained_tokenizer_CNN1.pkl', 'wb') as f: # creates a pickle file 'trained_tokenizer.pkl'\n",
    "    pickle.dump(tokenizer, f)"
   ]
  },
  {
   "cell_type": "markdown",
   "id": "8240d9e0",
   "metadata": {},
   "source": [
    "## Model RNN"
   ]
  },
  {
   "cell_type": "code",
   "execution_count": 494,
   "id": "e4ae88f4",
   "metadata": {},
   "outputs": [],
   "source": [
    "max_features = 10000\n",
    "maxlen = 1000\n",
    "\n",
    "tokenizer = Tokenizer(num_words=5000)\n",
    "tokenizer.fit_on_texts(data)\n",
    "X_train = tokenizer.texts_to_sequences(train_data['comment'])\n",
    "X_test = tokenizer.texts_to_sequences(test_data['comment'])\n",
    "vocab_size = len(tokenizer.word_index) + 1 \n",
    "\n",
    "train_data1 = sequence.pad_sequences(X_train, maxlen=maxlen)\n",
    "test_data1 = sequence.pad_sequences(X_test, maxlen=maxlen)\n",
    " "
   ]
  },
  {
   "cell_type": "code",
   "execution_count": 495,
   "id": "9a985a81",
   "metadata": {},
   "outputs": [],
   "source": [
    "model3 = Sequential()\n",
    "model3.add(Embedding(max_features, 32))\n",
    "model3.add(SimpleRNN(32))\n",
    "model3.add(Dense(32, activation='relu'))\n",
    "model3.add(Dense(32, activation='relu'))\n",
    "model3.add(Dense(1, activation='sigmoid'))\n",
    " \n",
    "model3.compile(optimizer='rmsprop',\n",
    "              loss='binary_crossentropy',\n",
    "              metrics=['acc'])\n",
    " \n"
   ]
  },
  {
   "cell_type": "code",
   "execution_count": 496,
   "id": "15a89eed",
   "metadata": {},
   "outputs": [
    {
     "name": "stdout",
     "output_type": "stream",
     "text": [
      "Epoch 1/10\n",
      "157/157 [==============================] - 27s 170ms/step - loss: 0.5809 - acc: 0.6966 - val_loss: 0.8223 - val_acc: 0.5760\n",
      "Epoch 2/10\n",
      "157/157 [==============================] - 26s 168ms/step - loss: 0.3674 - acc: 0.8439 - val_loss: 0.5051 - val_acc: 0.8044\n",
      "Epoch 3/10\n",
      "157/157 [==============================] - 27s 169ms/step - loss: 0.2895 - acc: 0.8856 - val_loss: 0.4994 - val_acc: 0.7740\n",
      "Epoch 4/10\n",
      "157/157 [==============================] - 27s 170ms/step - loss: 0.2203 - acc: 0.9136 - val_loss: 0.6738 - val_acc: 0.7536\n",
      "Epoch 5/10\n",
      "157/157 [==============================] - 27s 169ms/step - loss: 0.1486 - acc: 0.9460 - val_loss: 0.5281 - val_acc: 0.7972\n",
      "Epoch 6/10\n",
      "157/157 [==============================] - 26s 168ms/step - loss: 0.0887 - acc: 0.9706 - val_loss: 0.7503 - val_acc: 0.7956\n",
      "Epoch 7/10\n",
      "157/157 [==============================] - 26s 168ms/step - loss: 0.0511 - acc: 0.9829 - val_loss: 1.2499 - val_acc: 0.7742\n",
      "Epoch 8/10\n",
      "157/157 [==============================] - 27s 169ms/step - loss: 0.0338 - acc: 0.9886 - val_loss: 1.0702 - val_acc: 0.7800\n",
      "Epoch 9/10\n",
      "157/157 [==============================] - 27s 169ms/step - loss: 0.0225 - acc: 0.9929 - val_loss: 1.0697 - val_acc: 0.8090\n",
      "Epoch 10/10\n",
      "157/157 [==============================] - 26s 169ms/step - loss: 0.0149 - acc: 0.9947 - val_loss: 1.4346 - val_acc: 0.7750\n"
     ]
    }
   ],
   "source": [
    "history = model3.fit(train_data1, Y,\n",
    "                    epochs=10,\n",
    "                    batch_size=128,\n",
    "                    validation_split=0.2)\n",
    " "
   ]
  },
  {
   "cell_type": "code",
   "execution_count": 497,
   "id": "afdb8bec",
   "metadata": {},
   "outputs": [
    {
     "data": {
      "image/png": "[encoded data removed]",
      "text/plain": [
       "<Figure size 432x288 with 1 Axes>"
      ]
     },
     "metadata": {
      "needs_background": "light"
     },
     "output_type": "display_data"
    },
    {
     "data": {
      "image/png": "[encoded data removed]",
      "text/plain": [
       "<Figure size 432x288 with 1 Axes>"
      ]
     },
     "metadata": {
      "needs_background": "light"
     },
     "output_type": "display_data"
    }
   ],
   "source": [
    "plot_results(history)"
   ]
  },
  {
   "cell_type": "code",
   "execution_count": 498,
   "id": "09f324c6",
   "metadata": {},
   "outputs": [
    {
     "name": "stdout",
     "output_type": "stream",
     "text": [
      "Test loss: 1.1084270477294922\n",
      "Test accuracy: 0.8089600205421448\n"
     ]
    }
   ],
   "source": [
    "score = model3.evaluate(test_data1, Y_test, verbose=0)\n",
    "print('Test loss:', score[0])\n",
    "print('Test accuracy:', score[1])"
   ]
  },
  {
   "cell_type": "code",
   "execution_count": 499,
   "id": "a8259047",
   "metadata": {},
   "outputs": [],
   "source": [
    "model3.save('trained_model_RNN3.h5')\n",
    "\n",
    "with open('trained_tokenizer_RNN3.pkl', 'wb') as f: # creates a pickle file 'trained_tokenizer.pkl'\n",
    "    pickle.dump(tokenizer, f)"
   ]
  },
  {
   "cell_type": "markdown",
   "id": "d0b2a309",
   "metadata": {},
   "source": [
    "## MLOP"
   ]
  },
  {
   "cell_type": "code",
   "execution_count": 408,
   "id": "fcb10801",
   "metadata": {},
   "outputs": [
    {
     "ename": "ContextualVersionConflict",
     "evalue": "(anyio 2.2.0 (c:\\users\\remen\\anaconda3\\lib\\site-packages), Requirement.parse('anyio<5,>=3.4.0'), {'starlette'})",
     "output_type": "error",
     "traceback": [
      "\u001b[1;31m---------------------------------------------------------------------------\u001b[0m",
      "\u001b[1;31mContextualVersionConflict\u001b[0m                 Traceback (most recent call last)",
      "\u001b[1;32m~\\AppData\\Local\\Temp/ipykernel_19916/2390322104.py\u001b[0m in \u001b[0;36m<module>\u001b[1;34m\u001b[0m\n\u001b[1;32m----> 1\u001b[1;33m \u001b[1;32mimport\u001b[0m \u001b[0mgradio\u001b[0m \u001b[1;32mas\u001b[0m \u001b[0mgr\u001b[0m\u001b[1;33m\u001b[0m\u001b[1;33m\u001b[0m\u001b[0m\n\u001b[0m",
      "\u001b[1;32m~\\anaconda3\\lib\\site-packages\\gradio\\__init__.py\u001b[0m in \u001b[0;36m<module>\u001b[1;34m\u001b[0m\n\u001b[0;32m     67\u001b[0m )\n\u001b[0;32m     68\u001b[0m \u001b[1;33m\u001b[0m\u001b[0m\n\u001b[1;32m---> 69\u001b[1;33m \u001b[0mcurrent_pkg_version\u001b[0m \u001b[1;33m=\u001b[0m \u001b[0mpkg_resources\u001b[0m\u001b[1;33m.\u001b[0m\u001b[0mrequire\u001b[0m\u001b[1;33m(\u001b[0m\u001b[1;34m\"gradio\"\u001b[0m\u001b[1;33m)\u001b[0m\u001b[1;33m[\u001b[0m\u001b[1;36m0\u001b[0m\u001b[1;33m]\u001b[0m\u001b[1;33m.\u001b[0m\u001b[0mversion\u001b[0m\u001b[1;33m\u001b[0m\u001b[1;33m\u001b[0m\u001b[0m\n\u001b[0m\u001b[0;32m     70\u001b[0m \u001b[0m__version__\u001b[0m \u001b[1;33m=\u001b[0m \u001b[0mcurrent_pkg_version\u001b[0m\u001b[1;33m\u001b[0m\u001b[1;33m\u001b[0m\u001b[0m\n",
      "\u001b[1;32m~\\anaconda3\\lib\\site-packages\\pkg_resources\\__init__.py\u001b[0m in \u001b[0;36mrequire\u001b[1;34m(self, *requirements)\u001b[0m\n\u001b[0;32m    884\u001b[0m         \u001b[0mincluded\u001b[0m\u001b[1;33m,\u001b[0m \u001b[0meven\u001b[0m \u001b[1;32mif\u001b[0m \u001b[0mthey\u001b[0m \u001b[0mwere\u001b[0m \u001b[0malready\u001b[0m \u001b[0mactivated\u001b[0m \u001b[1;32min\u001b[0m \u001b[0mthis\u001b[0m \u001b[0mworking\u001b[0m \u001b[0mset\u001b[0m\u001b[1;33m.\u001b[0m\u001b[1;33m\u001b[0m\u001b[1;33m\u001b[0m\u001b[0m\n\u001b[0;32m    885\u001b[0m         \"\"\"\n\u001b[1;32m--> 886\u001b[1;33m         \u001b[0mneeded\u001b[0m \u001b[1;33m=\u001b[0m \u001b[0mself\u001b[0m\u001b[1;33m.\u001b[0m\u001b[0mresolve\u001b[0m\u001b[1;33m(\u001b[0m\u001b[0mparse_requirements\u001b[0m\u001b[1;33m(\u001b[0m\u001b[0mrequirements\u001b[0m\u001b[1;33m)\u001b[0m\u001b[1;33m)\u001b[0m\u001b[1;33m\u001b[0m\u001b[1;33m\u001b[0m\u001b[0m\n\u001b[0m\u001b[0;32m    887\u001b[0m \u001b[1;33m\u001b[0m\u001b[0m\n\u001b[0;32m    888\u001b[0m         \u001b[1;32mfor\u001b[0m \u001b[0mdist\u001b[0m \u001b[1;32min\u001b[0m \u001b[0mneeded\u001b[0m\u001b[1;33m:\u001b[0m\u001b[1;33m\u001b[0m\u001b[1;33m\u001b[0m\u001b[0m\n",
      "\u001b[1;32m~\\anaconda3\\lib\\site-packages\\pkg_resources\\__init__.py\u001b[0m in \u001b[0;36mresolve\u001b[1;34m(self, requirements, env, installer, replace_conflicting, extras)\u001b[0m\n\u001b[0;32m    775\u001b[0m                 \u001b[1;31m# Oops, the \"best\" so far conflicts with a dependency\u001b[0m\u001b[1;33m\u001b[0m\u001b[1;33m\u001b[0m\u001b[0m\n\u001b[0;32m    776\u001b[0m                 \u001b[0mdependent_req\u001b[0m \u001b[1;33m=\u001b[0m \u001b[0mrequired_by\u001b[0m\u001b[1;33m[\u001b[0m\u001b[0mreq\u001b[0m\u001b[1;33m]\u001b[0m\u001b[1;33m\u001b[0m\u001b[1;33m\u001b[0m\u001b[0m\n\u001b[1;32m--> 777\u001b[1;33m                 \u001b[1;32mraise\u001b[0m \u001b[0mVersionConflict\u001b[0m\u001b[1;33m(\u001b[0m\u001b[0mdist\u001b[0m\u001b[1;33m,\u001b[0m \u001b[0mreq\u001b[0m\u001b[1;33m)\u001b[0m\u001b[1;33m.\u001b[0m\u001b[0mwith_context\u001b[0m\u001b[1;33m(\u001b[0m\u001b[0mdependent_req\u001b[0m\u001b[1;33m)\u001b[0m\u001b[1;33m\u001b[0m\u001b[1;33m\u001b[0m\u001b[0m\n\u001b[0m\u001b[0;32m    778\u001b[0m \u001b[1;33m\u001b[0m\u001b[0m\n\u001b[0;32m    779\u001b[0m             \u001b[1;31m# push the new requirements onto the stack\u001b[0m\u001b[1;33m\u001b[0m\u001b[1;33m\u001b[0m\u001b[0m\n",
      "\u001b[1;31mContextualVersionConflict\u001b[0m: (anyio 2.2.0 (c:\\users\\remen\\anaconda3\\lib\\site-packages), Requirement.parse('anyio<5,>=3.4.0'), {'starlette'})"
     ]
    }
   ],
   "source": [
    "import gradio as gr"
   ]
  },
  {
   "cell_type": "code",
   "execution_count": 500,
   "id": "2f4aa363",
   "metadata": {},
   "outputs": [
    {
     "name": "stdout",
     "output_type": "stream",
     "text": [
      "WARNING:tensorflow:AutoGraph could not transform <function Model.make_predict_function.<locals>.predict_function at 0x0000028D050EF310> and will run it as-is.\n",
      "Please report this to the TensorFlow team. When filing the bug, set the verbosity to 10 (on Linux, `export AUTOGRAPH_VERBOSITY=10`) and attach the full output.\n",
      "Cause: closure mismatch, requested ('self', 'step_function'), but source function had ()\n",
      "To silence this warning, decorate the function with @tf.autograph.experimental.do_not_convert\n",
      "WARNING: AutoGraph could not transform <function Model.make_predict_function.<locals>.predict_function at 0x0000028D050EF310> and will run it as-is.\n",
      "Please report this to the TensorFlow team. When filing the bug, set the verbosity to 10 (on Linux, `export AUTOGRAPH_VERBOSITY=10`) and attach the full output.\n",
      "Cause: closure mismatch, requested ('self', 'step_function'), but source function had ()\n",
      "To silence this warning, decorate the function with @tf.autograph.experimental.do_not_convert\n",
      "{'Positive': 1.395985145791201e-05}\n"
     ]
    },
    {
     "ename": "NameError",
     "evalue": "name 'gr' is not defined",
     "output_type": "error",
     "traceback": [
      "\u001b[1;31m---------------------------------------------------------------------------\u001b[0m",
      "\u001b[1;31mNameError\u001b[0m                                 Traceback (most recent call last)",
      "\u001b[1;32m~\\AppData\\Local\\Temp/ipykernel_19916/902274070.py\u001b[0m in \u001b[0;36m<module>\u001b[1;34m\u001b[0m\n\u001b[0;32m     12\u001b[0m \u001b[1;33m\u001b[0m\u001b[0m\n\u001b[0;32m     13\u001b[0m \u001b[1;31m#setup the interface\u001b[0m\u001b[1;33m\u001b[0m\u001b[1;33m\u001b[0m\u001b[0m\n\u001b[1;32m---> 14\u001b[1;33m iface = gr.Interface(\n\u001b[0m\u001b[0;32m     15\u001b[0m     \u001b[0mfn\u001b[0m \u001b[1;33m=\u001b[0m \u001b[0mpositive_or_negative\u001b[0m\u001b[1;33m,\u001b[0m\u001b[1;33m\u001b[0m\u001b[1;33m\u001b[0m\u001b[0m\n\u001b[0;32m     16\u001b[0m     \u001b[0minputs\u001b[0m \u001b[1;33m=\u001b[0m \u001b[1;34m\"text\"\u001b[0m\u001b[1;33m,\u001b[0m\u001b[1;33m\u001b[0m\u001b[1;33m\u001b[0m\u001b[0m\n",
      "\u001b[1;31mNameError\u001b[0m: name 'gr' is not defined"
     ]
    }
   ],
   "source": [
    "#create a function to make predictions\n",
    "#return a dictionary of labels and probabilities\n",
    "def positive_or_negative(text):\n",
    "    text=text.lower()# change all text to lower\n",
    "    data = re.sub('[^a-zA-z0-9\\s]','',text)\n",
    "    data=tokenizer.texts_to_sequences([data])\n",
    "    data = pad_sequences(data, padding='post', maxlen=500)\n",
    "    prediction = model2.predict(data).tolist()[0]\n",
    "    class_names = [\"Positive\", \"Negative\"]\n",
    "    return {class_names[i]: prediction[i] for i in range(1)}\n",
    "print(positive_or_negative('i am not ok with this'))\n",
    "\n",
    "#setup the interface\n",
    "iface = gr.Interface(\n",
    "    fn = positive_or_negative, \n",
    "    inputs = \"text\", \n",
    "    outputs = gr.outputs.Label(),\n",
    ")\n",
    "iface.launch(share=True)"
   ]
  }
 ],
 "metadata": {
  "kernelspec": {
   "display_name": "Python 3 (ipykernel)",
   "language": "python",
   "name": "python3"
  },
  "language_info": {
   "codemirror_mode": {
    "name": "ipython",
    "version": 3
   },
   "file_extension": ".py",
   "mimetype": "text/x-python",
   "name": "python",
   "nbconvert_exporter": "python",
   "pygments_lexer": "ipython3",
   "version": "3.9.7"
  }
 },
 "nbformat": 4,
 "nbformat_minor": 5
}
